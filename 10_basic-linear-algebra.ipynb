{
 "cells": [
  {
   "cell_type": "markdown",
   "id": "6607ff74",
   "metadata": {},
   "source": [
    "# Basic linear algebra"
   ]
  },
  {
   "cell_type": "code",
   "execution_count": 2,
   "id": "de93d47d",
   "metadata": {},
   "outputs": [
    {
     "data": {
      "text/plain": [
       "3×3 Matrix{Int64}:\n",
       " 4  1  4\n",
       " 2  1  2\n",
       " 3  3  1"
      ]
     },
     "metadata": {},
     "output_type": "display_data"
    }
   ],
   "source": [
    "A = rand(1:4, 3, 3) #rand from 1 to 4 as int, 3x3 matrix"
   ]
  },
  {
   "cell_type": "code",
   "execution_count": 3,
   "id": "d58663bc",
   "metadata": {},
   "outputs": [
    {
     "data": {
      "text/plain": [
       "3×6 Matrix{Int64}:\n",
       " 4  1  4  4  1  4\n",
       " 2  1  2  2  1  2\n",
       " 3  3  1  3  3  1"
      ]
     },
     "metadata": {},
     "output_type": "display_data"
    }
   ],
   "source": [
    "B = A #not creating a new matrix but a pointer to A\n",
    "C = copy(A)\n",
    "[B C] #side by side"
   ]
  },
  {
   "cell_type": "code",
   "execution_count": 4,
   "id": "a06c30b1",
   "metadata": {},
   "outputs": [
    {
     "data": {
      "text/plain": [
       "3×6 Matrix{Int64}:\n",
       " 17  1  4  4  1  4\n",
       "  2  1  2  2  1  2\n",
       "  3  3  1  3  3  1"
      ]
     },
     "metadata": {},
     "output_type": "display_data"
    }
   ],
   "source": [
    "# watch out!\n",
    "# B and A share the same memory\n",
    "A[1] = 17\n",
    "[B C]"
   ]
  },
  {
   "cell_type": "code",
   "execution_count": 5,
   "id": "4abdc9a8",
   "metadata": {},
   "outputs": [
    {
     "data": {
      "text/plain": [
       "3-element Vector{Float64}:\n",
       " 1.0\n",
       " 1.0\n",
       " 1.0"
      ]
     },
     "metadata": {},
     "output_type": "display_data"
    }
   ],
   "source": [
    "x = ones(3)"
   ]
  },
  {
   "cell_type": "code",
   "execution_count": 15,
   "id": "94b030b1",
   "metadata": {},
   "outputs": [
    {
     "data": {
      "text/plain": [
       "3-element Vector{Float64}:\n",
       " 22.0\n",
       "  5.0\n",
       "  7.0"
      ]
     },
     "metadata": {},
     "output_type": "display_data"
    }
   ],
   "source": [
    "b = A * x"
   ]
  },
  {
   "cell_type": "code",
   "execution_count": 8,
   "id": "5e7f79f9",
   "metadata": {},
   "outputs": [
    {
     "data": {
      "text/plain": [
       "3×3 Matrix{Int64}:\n",
       " 34  3  7\n",
       "  3  2  5\n",
       "  7  5  2"
      ]
     },
     "metadata": {},
     "output_type": "display_data"
    }
   ],
   "source": [
    "# transpose -> A'\n",
    "Asym = A + A'"
   ]
  },
  {
   "cell_type": "code",
   "execution_count": 9,
   "id": "9cb0b943",
   "metadata": {},
   "outputs": [
    {
     "data": {
      "text/plain": [
       "3×3 Matrix{Int64}:\n",
       " 302  28  75\n",
       "  28  11   9\n",
       "  75   9  21"
      ]
     },
     "metadata": {},
     "output_type": "display_data"
    }
   ],
   "source": [
    "# transposed multiplciation doesn't require the *\n",
    "Apd = A'A"
   ]
  },
  {
   "cell_type": "code",
   "execution_count": 10,
   "id": "b31864b7",
   "metadata": {},
   "outputs": [
    {
     "data": {
      "text/plain": [
       "3-element Vector{Float64}:\n",
       " 1.0\n",
       " 1.0000000000000002\n",
       " 1.0"
      ]
     },
     "metadata": {},
     "output_type": "display_data"
    }
   ],
   "source": [
    "# solve linear systems\n",
    "# The problems Ax = b is solved by\n",
    "# It's simple\n",
    "\n",
    "A\\b"
   ]
  },
  {
   "cell_type": "code",
   "execution_count": 11,
   "id": "f84b7735",
   "metadata": {},
   "outputs": [
    {
     "data": {
      "text/plain": [
       "3×2 Matrix{Int64}:\n",
       " 17  1\n",
       "  2  1\n",
       "  3  3"
      ]
     },
     "metadata": {},
     "output_type": "display_data"
    },
    {
     "data": {
      "text/plain": [
       "2-element Vector{Float64}:\n",
       " 1.2257683215130024\n",
       " 1.243498817966903"
      ]
     },
     "metadata": {},
     "output_type": "display_data"
    }
   ],
   "source": [
    "# overdetermined systems\n",
    "# 3 equations 2 unknowns\n",
    "\n",
    "Atall = A[:, 1:2] #a tall skinny version of matrix A\n",
    "display(Atall)\n",
    "Atall\\b #give minimum norm solution"
   ]
  },
  {
   "cell_type": "code",
   "execution_count": 17,
   "id": "9a1a18fc",
   "metadata": {},
   "outputs": [
    {
     "data": {
      "text/plain": [
       "3×3 Matrix{Float64}:\n",
       " -0.554085   0.204295   0.913457\n",
       "  0.416101  -1.09999   -0.553221\n",
       " -1.15482    0.376122   0.825358"
      ]
     },
     "metadata": {},
     "output_type": "display_data"
    }
   ],
   "source": [
    "A = randn(3,3)"
   ]
  },
  {
   "cell_type": "code",
   "execution_count": 18,
   "id": "b97b5a58",
   "metadata": {},
   "outputs": [
    {
     "data": {
      "text/plain": [
       "3×2 Matrix{Float64}:\n",
       " -0.554085  -0.554085\n",
       "  0.416101   0.416101\n",
       " -1.15482   -1.15482"
      ]
     },
     "metadata": {},
     "output_type": "display_data"
    },
    {
     "data": {
      "text/plain": [
       "2-element Vector{Float64}:\n",
       " -5.0153054929520575\n",
       " -5.015305492952058"
      ]
     },
     "metadata": {},
     "output_type": "display_data"
    }
   ],
   "source": [
    "display([A[:, 1] A[:, 1]])\n",
    "[A[:, 1] A[:, 1]] \\ b"
   ]
  },
  {
   "cell_type": "code",
   "execution_count": 20,
   "id": "5c02a51f",
   "metadata": {},
   "outputs": [
    {
     "data": {
      "text/plain": [
       "2×3 Matrix{Float64}:\n",
       " -0.554085   0.204295   0.913457\n",
       "  0.416101  -1.09999   -0.553221"
      ]
     },
     "metadata": {},
     "output_type": "display_data"
    },
    {
     "data": {
      "text/plain": [
       "3-element Vector{Float64}:\n",
       " -11.152064470078287\n",
       " -19.68936097426662\n",
       "  21.723247225016785"
      ]
     },
     "metadata": {},
     "output_type": "display_data"
    }
   ],
   "source": [
    "# underdetermined systems\n",
    "# 2 equations 3 unkonwns\n",
    "Ashort = A[1:2, :]\n",
    "display(Ashort)\n",
    "Ashort \\ b[1:2] # give minimum norm solution\n"
   ]
  },
  {
   "cell_type": "code",
   "execution_count": null,
   "id": "1fb3a875",
   "metadata": {},
   "outputs": [],
   "source": []
  }
 ],
 "metadata": {
  "kernelspec": {
   "display_name": "Julia 1.9.2",
   "language": "julia",
   "name": "julia-1.9"
  },
  "language_info": {
   "file_extension": ".jl",
   "mimetype": "application/julia",
   "name": "julia",
   "version": "1.9.2"
  }
 },
 "nbformat": 4,
 "nbformat_minor": 5
}
