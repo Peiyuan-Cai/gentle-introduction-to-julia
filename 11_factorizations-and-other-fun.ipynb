{
 "cells": [
  {
   "cell_type": "markdown",
   "id": "eced10e5",
   "metadata": {},
   "source": [
    "# Factorization and other fun"
   ]
  },
  {
   "cell_type": "code",
   "execution_count": 1,
   "id": "fab7f070",
   "metadata": {},
   "outputs": [
    {
     "data": {
      "text/plain": [
       "3×3 Matrix{Float64}:\n",
       " -0.261552   0.0204189  -0.175613\n",
       " -0.0922646  0.340751    0.108116\n",
       "  0.364899   0.130434    0.493947"
      ]
     },
     "metadata": {},
     "output_type": "display_data"
    }
   ],
   "source": [
    "A = randn(3, 3)"
   ]
  },
  {
   "cell_type": "code",
   "execution_count": 50,
   "id": "300aca6e",
   "metadata": {},
   "outputs": [
    {
     "name": "stderr",
     "output_type": "stream",
     "text": [
      "┌ Warning: could not download https://pkg.julialang.org/registries\n",
      "│   exception = Downloads.RequestError(\"https://pkg.julialang.org/registries\", 28, \"Connection timeout after 30001 ms\", Downloads.Response(\"https\", \"https://cn-northeast.pkg.juliacn.com/registries\", 301, \"HTTP/2 301\", [\"server\" => \"Varnish\", \"retry-after\" => \"0\", \"location\" => \"https://cn-northeast.pkg.juliacn.com/registries\", \"x-geo-continent\" => \"AS\", \"x-geo-country\" => \"CN\", \"x-geo-region\" => \"BJ\", \"accept-ranges\" => \"bytes\", \"date\" => \"Thu, 24 Aug 2023 07:48:16 GMT\", \"via\" => \"1.1 varnish\", \"x-served-by\" => \"cache-tyo11950-TYO\", \"x-cache\" => \"HIT\", \"x-cache-hits\" => \"0\", \"x-timer\" => \"S1692863296.118903,VS0,VE0\", \"content-length\" => \"0\"]))\n",
      "└ @ Pkg.Registry /home/peiyuan/.julia/juliaup/julia-1.9.2+0.x64.linux.gnu/share/julia/stdlib/v1.9/Pkg/src/Registry/Registry.jl:69\n",
      "\u001b[32m\u001b[1m    Updating\u001b[22m\u001b[39m registry at `~/.julia/registries/General`\n",
      "\u001b[32m\u001b[1m    Updating\u001b[22m\u001b[39m"
     ]
    },
    {
     "name": "stderr",
     "output_type": "stream",
     "text": [
      " git-repo `https://github.com/JuliaRegistries/General.git`\n"
     ]
    },
    {
     "ename": "Pkg.Types.PkgError",
     "evalue": "The following package names could not be resolved:\n * Factorization (not found in project, manifest or registry)\n\u001b[36m   Suggestions:\u001b[39m LDL\u001b[0m\u001b[1mF\u001b[22m\u001b[0m\u001b[1ma\u001b[22m\u001b[0m\u001b[1mc\u001b[22m\u001b[0m\u001b[1mt\u001b[22m\u001b[0m\u001b[1mo\u001b[22m\u001b[0m\u001b[1mr\u001b[22m\u001b[0m\u001b[1mi\u001b[22m\u001b[0m\u001b[1mz\u001b[22m\u001b[0m\u001b[1ma\u001b[22m\u001b[0m\u001b[1mt\u001b[22m\u001b[0m\u001b[1mi\u001b[22m\u001b[0m\u001b[1mo\u001b[22m\u001b[0m\u001b[1mn\u001b[22ms Block\u001b[0m\u001b[1mF\u001b[22m\u001b[0m\u001b[1ma\u001b[22m\u001b[0m\u001b[1mc\u001b[22m\u001b[0m\u001b[1mt\u001b[22m\u001b[0m\u001b[1mo\u001b[22m\u001b[0m\u001b[1mr\u001b[22m\u001b[0m\u001b[1mi\u001b[22m\u001b[0m\u001b[1mz\u001b[22m\u001b[0m\u001b[1ma\u001b[22m\u001b[0m\u001b[1mt\u001b[22m\u001b[0m\u001b[1mi\u001b[22m\u001b[0m\u001b[1mo\u001b[22m\u001b[0m\u001b[1mn\u001b[22ms Takagi\u001b[0m\u001b[1mF\u001b[22m\u001b[0m\u001b[1ma\u001b[22m\u001b[0m\u001b[1mc\u001b[22m\u001b[0m\u001b[1mt\u001b[22m\u001b[0m\u001b[1mo\u001b[22m\u001b[0m\u001b[1mr\u001b[22m\u001b[0m\u001b[1mi\u001b[22m\u001b[0m\u001b[1mz\u001b[22m\u001b[0m\u001b[1ma\u001b[22m\u001b[0m\u001b[1mt\u001b[22m\u001b[0m\u001b[1mi\u001b[22m\u001b[0m\u001b[1mo\u001b[22m\u001b[0m\u001b[1mn\u001b[22m",
     "output_type": "error",
     "traceback": [
      "The following package names could not be resolved:\n",
      " * Factorization (not found in project, manifest or registry)\n",
      "\u001b[36m   Suggestions:\u001b[39m LDL\u001b[0m\u001b[1mF\u001b[22m\u001b[0m\u001b[1ma\u001b[22m\u001b[0m\u001b[1mc\u001b[22m\u001b[0m\u001b[1mt\u001b[22m\u001b[0m\u001b[1mo\u001b[22m\u001b[0m\u001b[1mr\u001b[22m\u001b[0m\u001b[1mi\u001b[22m\u001b[0m\u001b[1mz\u001b[22m\u001b[0m\u001b[1ma\u001b[22m\u001b[0m\u001b[1mt\u001b[22m\u001b[0m\u001b[1mi\u001b[22m\u001b[0m\u001b[1mo\u001b[22m\u001b[0m\u001b[1mn\u001b[22ms Block\u001b[0m\u001b[1mF\u001b[22m\u001b[0m\u001b[1ma\u001b[22m\u001b[0m\u001b[1mc\u001b[22m\u001b[0m\u001b[1mt\u001b[22m\u001b[0m\u001b[1mo\u001b[22m\u001b[0m\u001b[1mr\u001b[22m\u001b[0m\u001b[1mi\u001b[22m\u001b[0m\u001b[1mz\u001b[22m\u001b[0m\u001b[1ma\u001b[22m\u001b[0m\u001b[1mt\u001b[22m\u001b[0m\u001b[1mi\u001b[22m\u001b[0m\u001b[1mo\u001b[22m\u001b[0m\u001b[1mn\u001b[22ms Takagi\u001b[0m\u001b[1mF\u001b[22m\u001b[0m\u001b[1ma\u001b[22m\u001b[0m\u001b[1mc\u001b[22m\u001b[0m\u001b[1mt\u001b[22m\u001b[0m\u001b[1mo\u001b[22m\u001b[0m\u001b[1mr\u001b[22m\u001b[0m\u001b[1mi\u001b[22m\u001b[0m\u001b[1mz\u001b[22m\u001b[0m\u001b[1ma\u001b[22m\u001b[0m\u001b[1mt\u001b[22m\u001b[0m\u001b[1mi\u001b[22m\u001b[0m\u001b[1mo\u001b[22m\u001b[0m\u001b[1mn\u001b[22m\n",
      "\n",
      "Stacktrace:\n",
      "  [1] pkgerror(msg::String)\n",
      "    @ Pkg.Types ~/.julia/juliaup/julia-1.9.2+0.x64.linux.gnu/share/julia/stdlib/v1.9/Pkg/src/Types.jl:69\n",
      "  [2] ensure_resolved(ctx::Pkg.Types.Context, manifest::Pkg.Types.Manifest, pkgs::Vector{Pkg.Types.PackageSpec}; registry::Bool)\n",
      "    @ Pkg.Types ~/.julia/juliaup/julia-1.9.2+0.x64.linux.gnu/share/julia/stdlib/v1.9/Pkg/src/Types.jl:1003\n",
      "  [3] ensure_resolved\n",
      "    @ ~/.julia/juliaup/julia-1.9.2+0.x64.linux.gnu/share/julia/stdlib/v1.9/Pkg/src/Types.jl:954 [inlined]\n",
      "  [4] add(ctx::Pkg.Types.Context, pkgs::Vector{Pkg.Types.PackageSpec}; preserve::Pkg.Types.PreserveLevel, platform::Base.BinaryPlatforms.Platform, kwargs::Base.Pairs{Symbol, VSCodeServer.IJuliaCore.IJuliaStdio{Base.PipeEndpoint, typeof(VSCodeServer.io_send_callback)}, Tuple{Symbol}, NamedTuple{(:io,), Tuple{VSCodeServer.IJuliaCore.IJuliaStdio{Base.PipeEndpoint, typeof(VSCodeServer.io_send_callback)}}}})\n",
      "    @ Pkg.API ~/.julia/juliaup/julia-1.9.2+0.x64.linux.gnu/share/julia/stdlib/v1.9/Pkg/src/API.jl:264\n",
      "  [5] add(pkgs::Vector{Pkg.Types.PackageSpec}; io::VSCodeServer.IJuliaCore.IJuliaStdio{Base.PipeEndpoint, typeof(VSCodeServer.io_send_callback)}, kwargs::Base.Pairs{Symbol, Union{}, Tuple{}, NamedTuple{(), Tuple{}}})\n",
      "    @ Pkg.API ~/.julia/juliaup/julia-1.9.2+0.x64.linux.gnu/share/julia/stdlib/v1.9/Pkg/src/API.jl:156\n",
      "  [6] add(pkgs::Vector{Pkg.Types.PackageSpec})\n",
      "    @ Pkg.API ~/.julia/juliaup/julia-1.9.2+0.x64.linux.gnu/share/julia/stdlib/v1.9/Pkg/src/API.jl:145\n",
      "  [7] #add#25\n",
      "    @ ~/.julia/juliaup/julia-1.9.2+0.x64.linux.gnu/share/julia/stdlib/v1.9/Pkg/src/API.jl:144 [inlined]\n",
      "  [8] add\n",
      "    @ ~/.julia/juliaup/julia-1.9.2+0.x64.linux.gnu/share/julia/stdlib/v1.9/Pkg/src/API.jl:144 [inlined]\n",
      "  [9] #add#24\n",
      "    @ ~/.julia/juliaup/julia-1.9.2+0.x64.linux.gnu/share/julia/stdlib/v1.9/Pkg/src/API.jl:143 [inlined]\n",
      " [10] add(pkg::String)\n",
      "    @ Pkg.API ~/.julia/juliaup/julia-1.9.2+0.x64.linux.gnu/share/julia/stdlib/v1.9/Pkg/src/API.jl:143\n",
      " [11] top-level scope\n",
      "    @ ~/trans/gentle-introduction-to-julia/11_factorizations-and-other-fun.ipynb:3"
     ]
    }
   ],
   "source": [
    "using LinearAlgebra\n",
    "import Pkg"
   ]
  },
  {
   "cell_type": "code",
   "execution_count": 7,
   "id": "24afc531",
   "metadata": {},
   "outputs": [
    {
     "data": {
      "text/plain": [
       "LU{Float64, Matrix{Float64}, Vector{Int64}}\n",
       "L factor:\n",
       "3×3 Matrix{Float64}:\n",
       "  1.0       0.0       0.0\n",
       " -0.25285   1.0       0.0\n",
       " -0.716779  0.304794  1.0\n",
       "U factor:\n",
       "3×3 Matrix{Float64}:\n",
       " 0.364899  0.130434  0.493947\n",
       " 0.0       0.373731  0.233011\n",
       " 0.0       0.0       0.107418"
      ]
     },
     "metadata": {},
     "output_type": "display_data"
    }
   ],
   "source": [
    "#LU decomposition: function LU\n",
    "#returns L,U and permutation vector p\n",
    "l,u, p = lu(A)"
   ]
  },
  {
   "cell_type": "code",
   "execution_count": 10,
   "id": "bf656258",
   "metadata": {},
   "outputs": [
    {
     "data": {
      "text/plain": [
       "1.3060273231867978"
      ]
     },
     "metadata": {},
     "output_type": "display_data"
    },
    {
     "data": {
      "text/plain": [
       "3-element Vector{Int64}:\n",
       " 3\n",
       " 2\n",
       " 1"
      ]
     },
     "metadata": {},
     "output_type": "display_data"
    },
    {
     "data": {
      "text/plain": [
       "3×3 Matrix{Float64}:\n",
       "  0.364899   0.130434    0.493947\n",
       " -0.0922646  0.340751    0.108116\n",
       " -0.261552   0.0204189  -0.175613"
      ]
     },
     "metadata": {},
     "output_type": "display_data"
    },
    {
     "data": {
      "text/plain": [
       "2.2215299868541707e-17"
      ]
     },
     "metadata": {},
     "output_type": "display_data"
    }
   ],
   "source": [
    "#pivoting is on by default so we can't assume A=LU\n",
    "display(norm(l * u - A))\n",
    "display(p)\n",
    "display(A[p,:])\n",
    "display(norm(l * u - A[p, :]))"
   ]
  },
  {
   "cell_type": "code",
   "execution_count": 52,
   "id": "62bf1626",
   "metadata": {},
   "outputs": [
    {
     "data": {
      "text/plain": [
       "1.4275043794430723e-9"
      ]
     },
     "metadata": {},
     "output_type": "display_data"
    }
   ],
   "source": [
    "#turn the pivoting off\n",
    "l,u,p = lu(A, Val(false))\n",
    "norm(l*u-A)"
   ]
  },
  {
   "cell_type": "code",
   "execution_count": 19,
   "id": "c49d78c4",
   "metadata": {},
   "outputs": [
    {
     "ename": "UndefVarError",
     "evalue": "UndefVarError: `lufact` not defined",
     "output_type": "error",
     "traceback": [
      "UndefVarError: `lufact` not defined\n",
      "\n",
      "Stacktrace:\n",
      " [1] top-level scope\n",
      "   @ ~/trans/gentle-introduction-to-julia/11_factorizations-and-other-fun.ipynb:2"
     ]
    }
   ],
   "source": [
    "#Another lu factorization\n",
    "Alu = lufact(A)\n",
    "#we haven't got lufact etc. nowadays in the latest version in julia?"
   ]
  },
  {
   "cell_type": "code",
   "execution_count": null,
   "id": "10cf79c7",
   "metadata": {},
   "outputs": [],
   "source": [
    "#Then call the matrices\n",
    "Alu[:P]\n",
    "Alu[:L]\n",
    "alu[:U]"
   ]
  },
  {
   "cell_type": "code",
   "execution_count": 20,
   "id": "ab106372",
   "metadata": {},
   "outputs": [
    {
     "data": {
      "text/plain": [
       "3-element Vector{Float64}:\n",
       " -0.41674559877439304\n",
       "  0.3566027170822189\n",
       "  0.9892795051101153"
      ]
     },
     "metadata": {},
     "output_type": "display_data"
    }
   ],
   "source": [
    "x = ones(3)\n",
    "b = A * x"
   ]
  },
  {
   "cell_type": "code",
   "execution_count": 12,
   "id": "92a7a26d",
   "metadata": {},
   "outputs": [
    {
     "data": {
      "text/plain": [
       "-1.1056746877448151"
      ]
     },
     "execution_count": 12,
     "metadata": {},
     "output_type": "execute_result"
    }
   ],
   "source": [
    "det(A)"
   ]
  },
  {
   "cell_type": "code",
   "execution_count": 21,
   "id": "454f7a1f",
   "metadata": {},
   "outputs": [
    {
     "data": {
      "text/plain": [
       "3-element Vector{Float64}:\n",
       " 0.9999999999999996\n",
       " 0.9999999999999994\n",
       " 1.0000000000000004"
      ]
     },
     "metadata": {},
     "output_type": "display_data"
    }
   ],
   "source": [
    "A\\b"
   ]
  },
  {
   "cell_type": "code",
   "execution_count": 26,
   "id": "20403fe9",
   "metadata": {},
   "outputs": [
    {
     "data": {
      "text/plain": [
       "LinearAlgebra.QRCompactWY{Float64, Matrix{Float64}, Matrix{Float64}}\n",
       "Q factor:\n",
       "3×3 LinearAlgebra.QRCompactWYQ{Float64, Matrix{Float64}, Matrix{Float64}}:\n",
       " -0.570653  -0.092918   0.815917\n",
       " -0.201303  -0.947434  -0.248687\n",
       "  0.796136  -0.30616    0.521952\n",
       "R factor:\n",
       "3×3 Matrix{Float64}:\n",
       " 0.458337   0.0235967   0.471699\n",
       " 0.0       -0.36467    -0.237343\n",
       " 0.0        0.0         0.0876439"
      ]
     },
     "metadata": {},
     "output_type": "display_data"
    }
   ],
   "source": [
    "#the qr factorization\n",
    "Aqr = qr(A)"
   ]
  },
  {
   "cell_type": "code",
   "execution_count": 32,
   "id": "d7768ede",
   "metadata": {},
   "outputs": [
    {
     "data": {
      "text/plain": [
       "Eigen{Float64, Float64, Matrix{Float64}, Vector{Float64}}\n",
       "values:\n",
       "3-element Vector{Float64}:\n",
       " -0.5548513307200118\n",
       "  0.5721796277577124\n",
       "  1.1289648100639018\n",
       "vectors:\n",
       "3×3 Matrix{Float64}:\n",
       " -0.987475    0.135134  0.0814375\n",
       " -0.0832436  -0.884702  0.458664\n",
       "  0.134029    0.44614   0.88487"
      ]
     },
     "metadata": {},
     "output_type": "display_data"
    }
   ],
   "source": [
    "Asym = A + A'\n",
    "Asymeig = eigen(Asym) #colomns are eigvecs"
   ]
  },
  {
   "cell_type": "code",
   "execution_count": 55,
   "id": "3c8402f8",
   "metadata": {},
   "outputs": [
    {
     "data": {
      "text/plain": [
       "Eigen{Float64, Float64, Matrix{Float64}, Vector{Float64}}\n",
       "values:\n",
       "3-element Vector{Float64}:\n",
       " -0.5548513307200118\n",
       "  0.5721796277577124\n",
       "  1.1289648100639018\n",
       "vectors:\n",
       "3×3 Matrix{Float64}:\n",
       " -0.987475    0.135134  0.0814375\n",
       " -0.0832436  -0.884702  0.458664\n",
       "  0.134029    0.44614   0.88487"
      ]
     },
     "metadata": {},
     "output_type": "display_data"
    }
   ],
   "source": [
    "typeof(Asymeig) #it's a type call eigen"
   ]
  },
  {
   "cell_type": "code",
   "execution_count": 61,
   "id": "3fd68b96",
   "metadata": {},
   "outputs": [
    {
     "data": {
      "text/plain": [
       "3×3 Matrix{Float64}:\n",
       " -0.770006  -0.122313  -0.65513\n",
       "  0.242976  -0.714519  -0.60047\n",
       "  0.589961   0.688841  -0.45852"
      ]
     },
     "metadata": {},
     "output_type": "display_data"
    }
   ],
   "source": [
    "A = rand(3,3)\n",
    "uu = eigvals(A)\n",
    "vv = eigvecs(A)"
   ]
  },
  {
   "cell_type": "code",
   "execution_count": 62,
   "id": "c78a380c",
   "metadata": {},
   "outputs": [
    {
     "data": {
      "text/plain": [
       "3-element Vector{Float64}:\n",
       " -0.4473753260148712\n",
       "  0.36015033380003325\n",
       "  1.8914127412202515"
      ]
     },
     "metadata": {},
     "output_type": "display_data"
    }
   ],
   "source": [
    "uu"
   ]
  },
  {
   "cell_type": "code",
   "execution_count": 63,
   "id": "49b6fa2c",
   "metadata": {},
   "outputs": [
    {
     "data": {
      "text/plain": [
       "3×3 Matrix{Float64}:\n",
       " -0.770006  -0.122313  -0.65513\n",
       "  0.242976  -0.714519  -0.60047\n",
       "  0.589961   0.688841  -0.45852"
      ]
     },
     "metadata": {},
     "output_type": "display_data"
    }
   ],
   "source": [
    "vv"
   ]
  },
  {
   "cell_type": "code",
   "execution_count": 64,
   "id": "ffd90c5f",
   "metadata": {},
   "outputs": [
    {
     "name": "stdout",
     "output_type": "stream",
     "text": [
      "should be zero2.7894008272968645e-16\n"
     ]
    }
   ],
   "source": [
    "#check colomn as eigvecs\n",
    "println(\"should be zero\", norm(A*vv[:,1]-uu[1]*vv[:,1]))"
   ]
  },
  {
   "cell_type": "code",
   "execution_count": 36,
   "id": "e69d833a",
   "metadata": {},
   "outputs": [
    {
     "data": {
      "text/plain": [
       "SVD{Float64, Float64, Matrix{Float64}, Vector{Float64}}\n",
       "U factor:\n",
       "3×2 Matrix{Float64}:\n",
       " -0.557149  -0.154479\n",
       " -0.096983  -0.963716\n",
       "  0.82473   -0.217686\n",
       "singular values:\n",
       "2-element Vector{Float64}:\n",
       " 0.45996958563849233\n",
       " 0.36337610873711\n",
       "Vt factor:\n",
       "2×2 Matrix{Float64}:\n",
       " 0.990531   0.13729\n",
       " 0.13729   -0.990531"
      ]
     },
     "metadata": {},
     "output_type": "display_data"
    }
   ],
   "source": [
    "Asvd = svd(A[:, 1:2])"
   ]
  },
  {
   "cell_type": "code",
   "execution_count": 65,
   "id": "4be43a7b",
   "metadata": {},
   "outputs": [
    {
     "data": {
      "text/plain": [
       "SVD{Float64, Float64, Matrix{Float64}, Vector{Float64}}\n",
       "U factor:\n",
       "3×3 Matrix{Float64}:\n",
       " -0.665792   0.532856    0.522289\n",
       " -0.579695   0.0712961  -0.811709\n",
       " -0.469761  -0.843197    0.261425\n",
       "singular values:\n",
       "3-element Vector{Float64}:\n",
       " 1.919532907444103\n",
       " 0.5675389976892561\n",
       " 0.27973762869532626\n",
       "Vt factor:\n",
       "3×3 Matrix{Float64}:\n",
       " -0.59975   -0.524833  -0.604029\n",
       " -0.666031   0.745805   0.0132931\n",
       " -0.443511  -0.410275   0.796852"
      ]
     },
     "metadata": {},
     "output_type": "display_data"
    }
   ],
   "source": [
    "u,s,v = svd(A)"
   ]
  },
  {
   "cell_type": "code",
   "execution_count": 37,
   "id": "e9e3b5a2",
   "metadata": {},
   "outputs": [
    {
     "data": {
      "text/plain": [
       "2-element Vector{Float64}:\n",
       " 1.9956448880114765\n",
       " 1.6508414163321017"
      ]
     },
     "metadata": {},
     "output_type": "display_data"
    }
   ],
   "source": [
    "Asvd \\ b"
   ]
  },
  {
   "cell_type": "code",
   "execution_count": 66,
   "id": "a6c74a9d",
   "metadata": {},
   "outputs": [
    {
     "data": {
      "text/plain": [
       "3×3 Matrix{Float64}:\n",
       " 0.500268  0.836342   0.892397\n",
       " 0.741124  0.707341   0.491729\n",
       " 0.827101  0.0863466  0.596579"
      ]
     },
     "metadata": {},
     "output_type": "display_data"
    }
   ],
   "source": [
    "A"
   ]
  },
  {
   "cell_type": "code",
   "execution_count": 68,
   "id": "00f6920a",
   "metadata": {},
   "outputs": [
    {
     "data": {
      "text/plain": [
       "3-element Vector{Float64}:\n",
       " 0.5002681820567907\n",
       " 0.7073407063595061\n",
       " 0.5965788605891182"
      ]
     },
     "metadata": {},
     "output_type": "display_data"
    }
   ],
   "source": [
    "diag(A) #grab the diagonal elements to form a vector"
   ]
  },
  {
   "cell_type": "code",
   "execution_count": 67,
   "id": "ff480a1e",
   "metadata": {},
   "outputs": [
    {
     "data": {
      "text/plain": [
       "3×3 Diagonal{Float64, Vector{Float64}}:\n",
       " 0.500268   ⋅         ⋅ \n",
       "  ⋅        0.707341   ⋅ \n",
       "  ⋅         ⋅        0.596579"
      ]
     },
     "metadata": {},
     "output_type": "display_data"
    }
   ],
   "source": [
    "Diagonal(diag(A)) #take the diagonal elements to form a new matrix"
   ]
  },
  {
   "cell_type": "code",
   "execution_count": 69,
   "id": "b3de6376",
   "metadata": {},
   "outputs": [
    {
     "data": {
      "text/plain": [
       "3×3 Diagonal{Float64, Vector{Float64}}:\n",
       " 0.500268   ⋅         ⋅ \n",
       "  ⋅        0.707341   ⋅ \n",
       "  ⋅         ⋅        0.596579"
      ]
     },
     "metadata": {},
     "output_type": "display_data"
    }
   ],
   "source": [
    "Diagonal(A)"
   ]
  },
  {
   "cell_type": "code",
   "execution_count": 70,
   "id": "829c41f1",
   "metadata": {},
   "outputs": [
    {
     "data": {
      "text/plain": [
       "3×3 LowerTriangular{Float64, Matrix{Float64}}:\n",
       " 0.500268   ⋅          ⋅ \n",
       " 0.741124  0.707341    ⋅ \n",
       " 0.827101  0.0863466  0.596579"
      ]
     },
     "metadata": {},
     "output_type": "display_data"
    }
   ],
   "source": [
    "LowerTriangular(A)"
   ]
  },
  {
   "cell_type": "code",
   "execution_count": 72,
   "id": "21711fdc",
   "metadata": {},
   "outputs": [
    {
     "data": {
      "text/plain": [
       "3×3 Symmetric{Float64, Matrix{Float64}}:\n",
       " 0.500268  0.836342  0.892397\n",
       " 0.836342  0.707341  0.491729\n",
       " 0.892397  0.491729  0.596579"
      ]
     },
     "metadata": {},
     "output_type": "display_data"
    }
   ],
   "source": [
    "Symmetric(A) #take the upper triang to get the symmetric one"
   ]
  },
  {
   "cell_type": "code",
   "execution_count": 74,
   "id": "5163f6e9",
   "metadata": {},
   "outputs": [
    {
     "data": {
      "text/plain": [
       "2-element Vector{Float64}:\n",
       " 0.8363421172750903\n",
       " 0.49172904586824107"
      ]
     },
     "metadata": {},
     "output_type": "display_data"
    }
   ],
   "source": [
    "diag(A,1) #the second diag line of matrix A"
   ]
  },
  {
   "cell_type": "code",
   "execution_count": 75,
   "id": "e346654a",
   "metadata": {},
   "outputs": [
    {
     "data": {
      "text/plain": [
       "3×3 SymTridiagonal{Float64, Vector{Float64}}:\n",
       " 0.500268  0.836342   ⋅ \n",
       " 0.836342  0.707341  0.491729\n",
       "  ⋅        0.491729  0.596579"
      ]
     },
     "metadata": {},
     "output_type": "display_data"
    }
   ],
   "source": [
    "SymTridiagonal(diag(A), diag(A, 1))"
   ]
  },
  {
   "cell_type": "code",
   "execution_count": 43,
   "id": "2c885790",
   "metadata": {},
   "outputs": [
    {
     "name": "stdout",
     "output_type": "stream",
     "text": [
      "Is Asym1 symmetric? true\n",
      "Is Asym2 symmetric? false\n"
     ]
    }
   ],
   "source": [
    "n = 1000\n",
    "A = randn(n, n)\n",
    "Asym1 = A + A'\n",
    "Asym2 = copy(Asym1)\n",
    "Asym2[1, 2] += 5eps()\n",
    "println(\"Is Asym1 symmetric? \", issymmetric(Asym1))\n",
    "println(\"Is Asym2 symmetric? \", issymmetric(Asym2))"
   ]
  },
  {
   "cell_type": "code",
   "execution_count": 44,
   "id": "b39b3c52",
   "metadata": {},
   "outputs": [
    {
     "name": "stdout",
     "output_type": "stream",
     "text": [
      "  0.521913 seconds (274.82 k allocations: 26.223 MiB, 2.03% gc time, 73.93% compilation time)\n"
     ]
    },
    {
     "data": {
      "text/plain": [
       "1000-element Vector{Float64}:\n",
       " -88.86417605558447\n",
       " -88.06810225658336\n",
       " -87.48246186050066\n",
       " -87.00279838994159\n",
       " -86.47041613776459\n",
       " -85.7573853455494\n",
       " -85.52501983314819\n",
       " -85.22857538879232\n",
       " -84.98451338496787\n",
       " -84.09866821710227\n",
       "   ⋮\n",
       "  83.92726418903\n",
       "  84.2477896000978\n",
       "  84.51535993075244\n",
       "  84.90229661187408\n",
       "  85.18611192165794\n",
       "  86.36581636026717\n",
       "  86.51635437818271\n",
       "  87.0053679832138\n",
       "  88.35879190958138"
      ]
     },
     "metadata": {},
     "output_type": "display_data"
    }
   ],
   "source": [
    "@time eigvals(Asym1)"
   ]
  },
  {
   "cell_type": "code",
   "execution_count": 45,
   "id": "815e8a4c",
   "metadata": {},
   "outputs": [
    {
     "name": "stdout",
     "output_type": "stream",
     "text": [
      "  0.647067 seconds (14 allocations: 7.928 MiB)\n"
     ]
    },
    {
     "data": {
      "text/plain": [
       "1000-element Vector{Float64}:\n",
       " -88.86417605558412\n",
       " -88.06810225658324\n",
       " -87.48246186050211\n",
       " -87.00279838994234\n",
       " -86.47041613776511\n",
       " -85.75738534554922\n",
       " -85.52501983314866\n",
       " -85.228575388792\n",
       " -84.98451338496832\n",
       " -84.09866821710176\n",
       "   ⋮\n",
       "  83.92726418902993\n",
       "  84.24778960009763\n",
       "  84.51535993075254\n",
       "  84.90229661187436\n",
       "  85.18611192165764\n",
       "  86.36581636026662\n",
       "  86.51635437818149\n",
       "  87.00536798321296\n",
       "  88.35879190958211"
      ]
     },
     "metadata": {},
     "output_type": "display_data"
    }
   ],
   "source": [
    "@time eigvals(Asym2)"
   ]
  },
  {
   "cell_type": "code",
   "execution_count": 46,
   "id": "c2b6dd08",
   "metadata": {},
   "outputs": [
    {
     "name": "stdout",
     "output_type": "stream",
     "text": [
      "  0.168115 seconds (59.53 k allocations: 12.032 MiB, 36.84% compilation time)\n"
     ]
    },
    {
     "data": {
      "text/plain": [
       "1000-element Vector{Float64}:\n",
       " -88.86417605558375\n",
       " -88.06810225658276\n",
       " -87.48246186050088\n",
       " -87.00279838994078\n",
       " -86.47041613776486\n",
       " -85.75738534554988\n",
       " -85.52501983314829\n",
       " -85.2285753887911\n",
       " -84.98451338496746\n",
       " -84.09866821710263\n",
       "   ⋮\n",
       "  83.92726418903112\n",
       "  84.24778960009806\n",
       "  84.5153599307529\n",
       "  84.90229661187368\n",
       "  85.18611192165794\n",
       "  86.36581636026729\n",
       "  86.51635437818244\n",
       "  87.00536798321338\n",
       "  88.35879190958131"
      ]
     },
     "metadata": {},
     "output_type": "display_data"
    }
   ],
   "source": [
    "@time eigvals(Symmetric(Asym2))"
   ]
  },
  {
   "cell_type": "markdown",
   "id": "d49bb944",
   "metadata": {},
   "source": [
    "### Example 1: rational linear system of equations\n",
    "Julia has rational numbers built in. The following example shows how a linear system of equations can be solved without promoting to floating point element types. Overflow can easily become a problem when working with rational numbers so we use \"Bigint\""
   ]
  },
  {
   "cell_type": "code",
   "execution_count": 76,
   "id": "501ec4f2",
   "metadata": {},
   "outputs": [
    {
     "data": {
      "text/plain": [
       "3×3 Matrix{Rational{BigInt}}:\n",
       " 4//5  3//10  1//10\n",
       " 1//1  1//5   3//10\n",
       " 1//1  1//5   1//10"
      ]
     },
     "metadata": {},
     "output_type": "display_data"
    }
   ],
   "source": [
    "Ar = convert(Matrix{Rational{BigInt}}, rand(1:10, 3, 3)) / 10"
   ]
  },
  {
   "cell_type": "code",
   "execution_count": 48,
   "id": "334a5733",
   "metadata": {},
   "outputs": [
    {
     "data": {
      "text/plain": [
       "3-element Vector{Rational{BigInt}}:\n",
       "  9//10\n",
       " 19//10\n",
       "  6//5"
      ]
     },
     "metadata": {},
     "output_type": "display_data"
    }
   ],
   "source": [
    "x = ones(Int, 3)\n",
    "b = Ar * x"
   ]
  },
  {
   "cell_type": "code",
   "execution_count": 77,
   "id": "e31744d6",
   "metadata": {},
   "outputs": [
    {
     "data": {
      "text/plain": [
       "LU{Rational{BigInt}, Matrix{Rational{BigInt}}, Vector{Int64}}\n",
       "L factor:\n",
       "3×3 Matrix{Rational{BigInt}}:\n",
       " 1//1  0//1  0//1\n",
       " 4//5  1//1  0//1\n",
       " 1//1  0//1  1//1\n",
       "U factor:\n",
       "3×3 Matrix{Rational{BigInt}}:\n",
       " 1//1  1//5    3//10\n",
       " 0//1  7//50  -7//50\n",
       " 0//1  0//1   -1//5"
      ]
     },
     "metadata": {},
     "output_type": "display_data"
    }
   ],
   "source": [
    "l,u,p = lu(Ar)"
   ]
  },
  {
   "cell_type": "code",
   "execution_count": 78,
   "id": "a192165a",
   "metadata": {},
   "outputs": [
    {
     "data": {
      "text/plain": [
       "3-element Vector{Rational{BigInt}}:\n",
       "  29//28\n",
       " -13//14\n",
       "   7//2"
      ]
     },
     "metadata": {},
     "output_type": "display_data"
    }
   ],
   "source": [
    "Ar\\b"
   ]
  },
  {
   "cell_type": "code",
   "execution_count": 79,
   "id": "f86542ae",
   "metadata": {},
   "outputs": [
    {
     "data": {
      "text/plain": [
       "3-element Vector{BigFloat}:\n",
       "  1.035714285714285714285714285714285714285714285714285714285714285714285714285709\n",
       " -0.9285714285714285714285714285714285714285714285714285714285714285714285714285727\n",
       "  3.5"
      ]
     },
     "metadata": {},
     "output_type": "display_data"
    }
   ],
   "source": [
    "float(Ar\\b) #turn the rational number into float"
   ]
  },
  {
   "cell_type": "markdown",
   "id": "809b9fa6",
   "metadata": {},
   "source": [
    "### Example 2: rational matrix from eigenstructure\n",
    "\n",
    "This example shows how rational matrix arithmetic can be used for calculating a matrix given rational eigenvalues and vectors. "
   ]
  },
  {
   "cell_type": "code",
   "execution_count": 87,
   "id": "013126f0",
   "metadata": {},
   "outputs": [
    {
     "data": {
      "text/plain": [
       "3×3 Matrix{Int64}:\n",
       " 1  1  1\n",
       " 0  1  1\n",
       " 0  0  1"
      ]
     },
     "metadata": {},
     "output_type": "display_data"
    },
    {
     "data": {
      "text/plain": [
       "3×3 Diagonal{Rational{Int64}, Vector{Rational{Int64}}}:\n",
       " 1//1   ⋅     ⋅  \n",
       "  ⋅    1//2   ⋅  \n",
       "  ⋅     ⋅    1//4"
      ]
     },
     "metadata": {},
     "output_type": "display_data"
    }
   ],
   "source": [
    "lamb1, lamb2, lamb3 = 1//1, 1//2, 1//4\n",
    "v1, v2, v3 = [1,0,0],[1,1,0],[1,1,1]\n",
    "v, Lamb = [v1 v2 v3], Diagonal([lamb1,lamb2,lamb3]) #don't add commas between v1,v2,v3, that's a vector(list). But we need a matrix\n",
    "display(v)\n",
    "display(Lamb)"
   ]
  },
  {
   "cell_type": "code",
   "execution_count": 88,
   "id": "dcd5f9cb",
   "metadata": {},
   "outputs": [
    {
     "data": {
      "text/plain": [
       "3×3 Matrix{Rational{Int64}}:\n",
       " 1//1  -1//2  -1//4\n",
       " 0//1   1//2  -1//4\n",
       " 0//1   0//1   1//4"
      ]
     },
     "metadata": {},
     "output_type": "display_data"
    }
   ],
   "source": [
    "A = v*Lamb/v"
   ]
  },
  {
   "cell_type": "code",
   "execution_count": null,
   "id": "b8c7a07d",
   "metadata": {},
   "outputs": [],
   "source": []
  }
 ],
 "metadata": {
  "kernelspec": {
   "display_name": "Julia 1.9.2",
   "language": "julia",
   "name": "julia-1.9"
  },
  "language_info": {
   "file_extension": ".jl",
   "mimetype": "application/julia",
   "name": "julia",
   "version": "1.9.2"
  }
 },
 "nbformat": 4,
 "nbformat_minor": 5
}
