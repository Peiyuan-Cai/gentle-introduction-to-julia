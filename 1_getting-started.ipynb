{
 "cells": [
  {
   "cell_type": "code",
   "execution_count": 1,
   "id": "de879ae3",
   "metadata": {},
   "outputs": [
    {
     "name": "stdout",
     "output_type": "stream",
     "text": [
      "Hello world!\n",
      "Hello world"
     ]
    }
   ],
   "source": [
    "println(\"Hello world!\")\n",
    "print(\"Hello world\")"
   ]
  },
  {
   "cell_type": "code",
   "execution_count": 2,
   "id": "a4ec0e32",
   "metadata": {},
   "outputs": [
    {
     "data": {
      "text/plain": [
       "Int64"
      ]
     },
     "metadata": {},
     "output_type": "display_data"
    }
   ],
   "source": [
    "my_answer = 42\n",
    "typeof(my_answer)"
   ]
  },
  {
   "cell_type": "code",
   "execution_count": 3,
   "id": "84261068",
   "metadata": {},
   "outputs": [
    {
     "data": {
      "text/plain": [
       "Float64"
      ]
     },
     "metadata": {},
     "output_type": "display_data"
    }
   ],
   "source": [
    "my_pi = 3.1415926535\n",
    "typeof(my_pi)"
   ]
  },
  {
   "cell_type": "code",
   "execution_count": 4,
   "id": "3f5231c1",
   "metadata": {},
   "outputs": [
    {
     "data": {
      "text/plain": [
       "String"
      ]
     },
     "metadata": {},
     "output_type": "display_data"
    }
   ],
   "source": [
    "my_name = \"Peiyuan\"\n",
    "typeof(my_name)"
   ]
  },
  {
   "cell_type": "code",
   "execution_count": 5,
   "id": "034aec95",
   "metadata": {},
   "outputs": [
    {
     "data": {
      "text/plain": [
       "String"
      ]
     },
     "metadata": {},
     "output_type": "display_data"
    }
   ],
   "source": [
    "my_answer = my_name\n",
    "typeof(my_answer)"
   ]
  },
  {
   "cell_type": "markdown",
   "id": "93b701d0",
   "metadata": {},
   "source": [
    "# How to comment"
   ]
  },
  {
   "cell_type": "code",
   "execution_count": 6,
   "id": "d86138b0",
   "metadata": {},
   "outputs": [],
   "source": [
    "# this is a comment by pound/hash\n",
    "\n",
    "#=\n",
    "multiline comment\n",
    "multiline comment\n",
    "multiline comment\n",
    "=#"
   ]
  },
  {
   "cell_type": "code",
   "execution_count": 7,
   "id": "5604b92f",
   "metadata": {},
   "outputs": [
    {
     "name": "stdout",
     "output_type": "stream",
     "text": [
      "10\n"
     ]
    }
   ],
   "source": [
    "sum = 3 + 7\n",
    "difference = 10 - 3\n",
    "product = 20 * 5\n",
    "quotient = 100 / 10\n",
    "power = 10 ^2\n",
    "println(sum)"
   ]
  }
 ],
 "metadata": {
  "kernelspec": {
   "display_name": "Julia 1.9.2",
   "language": "julia",
   "name": "julia-1.9"
  },
  "language_info": {
   "file_extension": ".jl",
   "mimetype": "application/julia",
   "name": "julia",
   "version": "1.9.2"
  }
 },
 "nbformat": 4,
 "nbformat_minor": 5
}
