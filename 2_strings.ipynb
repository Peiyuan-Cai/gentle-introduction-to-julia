{
 "cells": [
  {
   "cell_type": "code",
   "execution_count": 1,
   "id": "a44f08ec",
   "metadata": {},
   "outputs": [
    {
     "data": {
      "text/plain": [
       "\"I am also a string\""
      ]
     },
     "execution_count": 1,
     "metadata": {},
     "output_type": "execute_result"
    }
   ],
   "source": [
    "s1 = \"I am a string\" #one set of double qoute\n",
    "s2 = \"\"\"I am also a string\"\"\" #triple double qoute"
   ]
  },
  {
   "cell_type": "code",
   "execution_count": 2,
   "id": "1a88ea64",
   "metadata": {},
   "outputs": [
    {
     "ename": "LoadError",
     "evalue": "syntax: cannot juxtapose string literal",
     "output_type": "error",
     "traceback": [
      "syntax: cannot juxtapose string literal",
      "",
      "Stacktrace:",
      " [1] top-level scope",
      "   @ In[2]:1"
     ]
    }
   ],
   "source": [
    "\"Here, we get an \"error\" because it's ambiguous where this string actually ends\""
   ]
  },
  {
   "cell_type": "code",
   "execution_count": 3,
   "id": "f1956e9c",
   "metadata": {},
   "outputs": [
    {
     "data": {
      "text/plain": [
       "\"Look Igor, no \\\"errors\\\" \""
      ]
     },
     "execution_count": 3,
     "metadata": {},
     "output_type": "execute_result"
    }
   ],
   "source": [
    "\"\"\"Look Igor, no \"errors\" \"\"\""
   ]
  },
  {
   "cell_type": "code",
   "execution_count": 4,
   "id": "3a46a2e5",
   "metadata": {},
   "outputs": [
    {
     "data": {
      "text/plain": [
       "Char"
      ]
     },
     "execution_count": 4,
     "metadata": {},
     "output_type": "execute_result"
    }
   ],
   "source": [
    "# char != string\n",
    "typeof('a')"
   ]
  },
  {
   "cell_type": "code",
   "execution_count": 5,
   "id": "94727bcf",
   "metadata": {},
   "outputs": [
    {
     "ename": "LoadError",
     "evalue": "syntax: character literal contains multiple characters",
     "output_type": "error",
     "traceback": [
      "syntax: character literal contains multiple characters",
      "",
      "Stacktrace:",
      " [1] top-level scope",
      "   @ In[5]:1"
     ]
    }
   ],
   "source": [
    "'We will get an error here'"
   ]
  },
  {
   "cell_type": "code",
   "execution_count": 2,
   "id": "5708d9dd",
   "metadata": {},
   "outputs": [
    {
     "name": "stdout",
     "output_type": "stream",
     "text": [
      "Hello, my name is Peiyuan.\n",
      "I sold the Dark Magician to earn 80 RMB\n",
      "Look, I can sum 5 and 7 into 12\n"
     ]
    }
   ],
   "source": [
    "#using $ to bring anything in a string\n",
    "name = \"Peiyuan\"\n",
    "card = \"Dark Magician\"\n",
    "money = \"80\"\n",
    "\n",
    "println(\"Hello, my name is $name.\")\n",
    "println(\"I sold the $card to earn $money RMB\")\n",
    "\n",
    "#we can have vars after the $\n",
    "n1 = 5\n",
    "n2 = 7\n",
    "println(\"Look, I can sum two integers $n1 and $n2 into $(n1 + n2)\")"
   ]
  },
  {
   "cell_type": "code",
   "execution_count": 5,
   "id": "ca1f8ef1",
   "metadata": {},
   "outputs": [
    {
     "data": {
      "text/plain": [
       "\"I likecats\""
      ]
     },
     "metadata": {},
     "output_type": "display_data"
    }
   ],
   "source": [
    "# concatenation with COMMA\n",
    "string(\"I like\", \"cats\")"
   ]
  },
  {
   "cell_type": "code",
   "execution_count": 6,
   "id": "5c97a20f",
   "metadata": {},
   "outputs": [
    {
     "data": {
      "text/plain": [
       "\"I watched 10 movies yesterday\""
      ]
     },
     "metadata": {},
     "output_type": "display_data"
    }
   ],
   "source": [
    "# something like python? \n",
    "newstr = string(\"I watched \", 10, \" movies yesterday\")"
   ]
  },
  {
   "cell_type": "code",
   "execution_count": 7,
   "id": "b0f4a0c5",
   "metadata": {},
   "outputs": [
    {
     "data": {
      "text/plain": [
       "\"my friend Asakawawill be a superstar\""
      ]
     },
     "metadata": {},
     "output_type": "display_data"
    }
   ],
   "source": [
    "# * to connect two strings\n",
    "s3 = \"my friend Asakawa\";\n",
    "s4 = \"will be a superstar\";\n",
    "s3 * s4"
   ]
  },
  {
   "cell_type": "code",
   "execution_count": 8,
   "id": "25e8af1a",
   "metadata": {},
   "outputs": [
    {
     "name": "stdout",
     "output_type": "stream",
     "text": [
      "my friend Asakawawill be a superstar\n"
     ]
    }
   ],
   "source": [
    "#or just $\n",
    "println(\"$s3$s4\")"
   ]
  },
  {
   "cell_type": "code",
   "execution_count": null,
   "id": "2fbcf8be",
   "metadata": {},
   "outputs": [],
   "source": []
  }
 ],
 "metadata": {
  "kernelspec": {
   "display_name": "Julia 1.9.2",
   "language": "julia",
   "name": "julia-1.9"
  },
  "language_info": {
   "file_extension": ".jl",
   "mimetype": "application/julia",
   "name": "julia",
   "version": "1.9.2"
  }
 },
 "nbformat": 4,
 "nbformat_minor": 5
}
