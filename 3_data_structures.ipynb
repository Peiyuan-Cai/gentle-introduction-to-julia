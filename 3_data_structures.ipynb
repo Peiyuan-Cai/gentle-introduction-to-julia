{
 "cells": [
  {
   "cell_type": "markdown",
   "id": "8aacf87d",
   "metadata": {},
   "source": [
    "# Dictionaries"
   ]
  },
  {
   "cell_type": "code",
   "execution_count": 1,
   "id": "ecd3ba8d",
   "metadata": {},
   "outputs": [
    {
     "data": {
      "text/plain": [
       "Dict{String, String} with 3 entries:\n",
       "  \"Seira\"     => \"123\"\n",
       "  \"Shirayuki\" => \"789\"\n",
       "  \"Akane\"     => \"456\""
      ]
     },
     "metadata": {},
     "output_type": "display_data"
    }
   ],
   "source": [
    "myphonebook = Dict(\"Seira\" => \"123\", \"Akane\" => \"456\", \"Shirayuki\" => \"789\")"
   ]
  },
  {
   "cell_type": "code",
   "execution_count": 3,
   "id": "493c6241",
   "metadata": {},
   "outputs": [
    {
     "data": {
      "text/plain": [
       "Dict{String, String} with 4 entries:\n",
       "  \"Shiraishi\" => \"114514\"\n",
       "  \"Seira\"     => \"123\"\n",
       "  \"Shirayuki\" => \"789\"\n",
       "  \"Akane\"     => \"456\""
      ]
     },
     "metadata": {},
     "output_type": "display_data"
    }
   ],
   "source": [
    "#new key and value added to the dictionary\n",
    "myphonebook[\"Shiraishi\"] = \"114514\"\n",
    "myphonebook"
   ]
  },
  {
   "cell_type": "code",
   "execution_count": 4,
   "id": "8aa03674",
   "metadata": {},
   "outputs": [
    {
     "data": {
      "text/plain": [
       "\"123\""
      ]
     },
     "execution_count": 4,
     "metadata": {},
     "output_type": "execute_result"
    }
   ],
   "source": [
    "#search the value of key\n",
    "myphonebook[\"Seira\"]"
   ]
  },
  {
   "cell_type": "code",
   "execution_count": 4,
   "id": "131314d0",
   "metadata": {},
   "outputs": [
    {
     "data": {
      "text/plain": [
       "\"114514\""
      ]
     },
     "metadata": {},
     "output_type": "display_data"
    }
   ],
   "source": [
    "# GET key value and REMOVE it from dict\n",
    "pop!(myphonebook, \"Shiraishi\")"
   ]
  },
  {
   "cell_type": "code",
   "execution_count": 5,
   "id": "fab4e9d7",
   "metadata": {},
   "outputs": [
    {
     "data": {
      "text/plain": [
       "Dict{String, String} with 3 entries:\n",
       "  \"Seira\"     => \"123\"\n",
       "  \"Shirayuki\" => \"789\"\n",
       "  \"Akane\"     => \"456\""
      ]
     },
     "metadata": {},
     "output_type": "display_data"
    }
   ],
   "source": [
    "myphonebook"
   ]
  },
  {
   "cell_type": "code",
   "execution_count": 6,
   "id": "cc0f1f93",
   "metadata": {},
   "outputs": [
    {
     "ename": "KeyError",
     "evalue": "KeyError: key 1 not found",
     "output_type": "error",
     "traceback": [
      "KeyError: key 1 not found\n",
      "\n",
      "Stacktrace:\n",
      " [1] getindex(h::Dict{String, String}, key::Int64)\n",
      "   @ Base ./dict.jl:484\n",
      " [2] top-level scope\n",
      "   @ ~/trans/gentle-introduction-to-julia/3_data_structures.ipynb:2"
     ]
    }
   ],
   "source": [
    "# dicts are not ordered, we can't use ints as keys\n",
    "myphonebook[1]"
   ]
  },
  {
   "cell_type": "markdown",
   "id": "897226e6",
   "metadata": {},
   "source": [
    "# Tuples\n",
    "ordered sequence of elements inside ()"
   ]
  },
  {
   "cell_type": "code",
   "execution_count": 7,
   "id": "cb692ad2",
   "metadata": {},
   "outputs": [
    {
     "data": {
      "text/plain": [
       "(\"cats\", \"dogs\", \"pandas\")"
      ]
     },
     "metadata": {},
     "output_type": "display_data"
    }
   ],
   "source": [
    "myfavoriteanimals = (\"cats\", \"dogs\", \"pandas\")"
   ]
  },
  {
   "cell_type": "code",
   "execution_count": 8,
   "id": "1ba84670",
   "metadata": {},
   "outputs": [
    {
     "data": {
      "text/plain": [
       "\"cats\""
      ]
     },
     "metadata": {},
     "output_type": "display_data"
    }
   ],
   "source": [
    "# tuples are ordered\n",
    "myfavoriteanimals[1]"
   ]
  },
  {
   "cell_type": "code",
   "execution_count": 9,
   "id": "a446de97",
   "metadata": {},
   "outputs": [
    {
     "ename": "MethodError",
     "evalue": "MethodError: no method matching setindex!(::Tuple{String, String, String}, ::String, ::Int64)",
     "output_type": "error",
     "traceback": [
      "MethodError: no method matching setindex!(::Tuple{String, String, String}, ::String, ::Int64)\n",
      "\n",
      "Stacktrace:\n",
      " [1] top-level scope\n",
      "   @ ~/trans/gentle-introduction-to-julia/3_data_structures.ipynb:2"
     ]
    }
   ],
   "source": [
    "# but they are immutable, so this is an error\n",
    "myfavoriteanimals[1] = \"dogs\""
   ]
  },
  {
   "cell_type": "markdown",
   "id": "5a398b36",
   "metadata": {},
   "source": [
    "# Arrays\n",
    "Unlike tuples, arrays are mutatble. Und unlike dictionaries, arrays contain ordered sequences of elements.\n",
    "\n",
    "We can create an array by enclosing this sequence of elements in []\n",
    "\n",
    "the type is \"vector\"?"
   ]
  },
  {
   "cell_type": "code",
   "execution_count": 14,
   "id": "6ed3fc85",
   "metadata": {},
   "outputs": [
    {
     "data": {
      "text/plain": [
       "3-element Vector{String}:\n",
       " \"naruto\"\n",
       " \"sasuke\"\n",
       " \"sakura\""
      ]
     },
     "metadata": {},
     "output_type": "display_data"
    }
   ],
   "source": [
    "# ordered and mutable\n",
    "myfriends = [\"naruto\", \"sasuke\", \"sakura\"]"
   ]
  },
  {
   "cell_type": "code",
   "execution_count": 19,
   "id": "e23d4788",
   "metadata": {},
   "outputs": [
    {
     "data": {
      "text/plain": [
       "8-element Vector{Int64}:\n",
       "  1\n",
       "  1\n",
       "  2\n",
       "  3\n",
       "  5\n",
       "  8\n",
       " 13\n",
       " 21"
      ]
     },
     "execution_count": 19,
     "metadata": {},
     "output_type": "execute_result"
    }
   ],
   "source": [
    "fibonacci = [1, 1, 2, 3, 5, 8, 13 ,21]"
   ]
  },
  {
   "cell_type": "code",
   "execution_count": 21,
   "id": "975878c3",
   "metadata": {},
   "outputs": [
    {
     "data": {
      "text/plain": [
       "4-element Vector{Any}:\n",
       " 1\n",
       " 2\n",
       " 3.0\n",
       "  \"hi\""
      ]
     },
     "execution_count": 21,
     "metadata": {},
     "output_type": "execute_result"
    }
   ],
   "source": [
    "mix = [1, 2, 3.0, \"hi\"]"
   ]
  },
  {
   "cell_type": "code",
   "execution_count": 22,
   "id": "fb4ae0e7",
   "metadata": {},
   "outputs": [
    {
     "data": {
      "text/plain": [
       "\"sasuke\""
      ]
     },
     "execution_count": 22,
     "metadata": {},
     "output_type": "execute_result"
    }
   ],
   "source": [
    "myfriends[2]"
   ]
  },
  {
   "cell_type": "code",
   "execution_count": 15,
   "id": "8dc87df8",
   "metadata": {},
   "outputs": [
    {
     "data": {
      "text/plain": [
       "3-element Vector{String}:\n",
       " \"naruto\"\n",
       " \"kakashi\"\n",
       " \"sakura\""
      ]
     },
     "metadata": {},
     "output_type": "display_data"
    }
   ],
   "source": [
    "#we can now modify any elements in the array\n",
    "myfriends[2] = \"kakashi\"\n",
    "myfriends"
   ]
  },
  {
   "cell_type": "code",
   "execution_count": 16,
   "id": "dc315953",
   "metadata": {},
   "outputs": [
    {
     "data": {
      "text/plain": [
       "4-element Vector{String}:\n",
       " \"naruto\"\n",
       " \"kakashi\"\n",
       " \"sakura\"\n",
       " \"orochimaru\""
      ]
     },
     "metadata": {},
     "output_type": "display_data"
    }
   ],
   "source": [
    "# push! insert element in the end of array, something like append() in python\n",
    "# and pop! removes element from END of array\n",
    "push!(myfriends, \"orochimaru\")"
   ]
  },
  {
   "cell_type": "code",
   "execution_count": 17,
   "id": "a351523a",
   "metadata": {},
   "outputs": [
    {
     "data": {
      "text/plain": [
       "\"orochimaru\""
      ]
     },
     "metadata": {},
     "output_type": "display_data"
    }
   ],
   "source": [
    "pop!(myfriends)"
   ]
  },
  {
   "cell_type": "code",
   "execution_count": 18,
   "id": "f7ab62f2",
   "metadata": {},
   "outputs": [
    {
     "data": {
      "text/plain": [
       "3-element Vector{String}:\n",
       " \"naruto\"\n",
       " \"kakashi\"\n",
       " \"sakura\""
      ]
     },
     "metadata": {},
     "output_type": "display_data"
    }
   ],
   "source": [
    "myfriends"
   ]
  },
  {
   "cell_type": "code",
   "execution_count": 19,
   "id": "67d7219b",
   "metadata": {},
   "outputs": [
    {
     "data": {
      "text/plain": [
       "3-element Vector{Vector{Int64}}:\n",
       " [1, 2, 3]\n",
       " [4, 5]\n",
       " [6, 7, 8, 9]"
      ]
     },
     "metadata": {},
     "output_type": "display_data"
    }
   ],
   "source": [
    "# arrays can have an arbitrary number of dimensions and store other arrays\n",
    "matrix = [[1, 2, 3], [4, 5], [6, 7, 8, 9]]"
   ]
  },
  {
   "cell_type": "code",
   "execution_count": 20,
   "id": "13cf1cef",
   "metadata": {},
   "outputs": [
    {
     "data": {
      "text/plain": [
       "4×3 Matrix{Float64}:\n",
       " 0.482858   0.0163674  0.407093\n",
       " 0.377747   0.621537   0.295536\n",
       " 0.195005   0.0554848  0.878422\n",
       " 0.0427559  0.221916   0.0764557"
      ]
     },
     "metadata": {},
     "output_type": "display_data"
    }
   ],
   "source": [
    "#rand a matrix\n",
    "rand(4, 3)"
   ]
  },
  {
   "cell_type": "code",
   "execution_count": 21,
   "id": "680a006f",
   "metadata": {},
   "outputs": [
    {
     "data": {
      "text/plain": [
       "4×3×2 Array{Float64, 3}:\n",
       "[:, :, 1] =\n",
       " 0.283181  0.0461501  0.436485\n",
       " 0.476629  0.707397   0.269598\n",
       " 0.850738  0.841387   0.613769\n",
       " 0.887761  0.299081   0.0347095\n",
       "\n",
       "[:, :, 2] =\n",
       " 0.0565708  0.912135  0.760409\n",
       " 0.330141   0.214438  0.062696\n",
       " 0.122033   0.301511  0.0815075\n",
       " 0.146553   0.782481  0.455557"
      ]
     },
     "metadata": {},
     "output_type": "display_data"
    }
   ],
   "source": [
    "rand(4,3,2)"
   ]
  },
  {
   "cell_type": "code",
   "execution_count": null,
   "id": "723fae77",
   "metadata": {},
   "outputs": [],
   "source": []
  }
 ],
 "metadata": {
  "kernelspec": {
   "display_name": "Julia 1.9.2",
   "language": "julia",
   "name": "julia-1.9"
  },
  "language_info": {
   "file_extension": ".jl",
   "mimetype": "application/julia",
   "name": "julia",
   "version": "1.9.2"
  }
 },
 "nbformat": 4,
 "nbformat_minor": 5
}
