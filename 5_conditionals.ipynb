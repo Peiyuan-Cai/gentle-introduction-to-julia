{
 "cells": [
  {
   "cell_type": "markdown",
   "id": "22d929b8",
   "metadata": {},
   "source": [
    "# Conditionals"
   ]
  },
  {
   "cell_type": "code",
   "execution_count": 1,
   "id": "92b34671",
   "metadata": {},
   "outputs": [],
   "source": [
    "x = 39\n",
    "y = 69;"
   ]
  },
  {
   "cell_type": "code",
   "execution_count": 2,
   "id": "42a3796b",
   "metadata": {},
   "outputs": [
    {
     "name": "stdout",
     "output_type": "stream",
     "text": [
      "69 is larger than 39\n"
     ]
    }
   ],
   "source": [
    "if x > y\n",
    "    println(\"$x in larger than $y\") #remember to use $\n",
    "elseif y > x\n",
    "    println(\"$y is larger than $x\")\n",
    "else\n",
    "    println(\"$x and $y are equal\")\n",
    "end"
   ]
  },
  {
   "cell_type": "code",
   "execution_count": 3,
   "id": "ee0f33a7",
   "metadata": {},
   "outputs": [
    {
     "data": {
      "text/plain": [
       "69"
      ]
     },
     "metadata": {},
     "output_type": "display_data"
    }
   ],
   "source": [
    "if x > y\n",
    "    x\n",
    "else \n",
    "    y\n",
    "end"
   ]
  },
  {
   "cell_type": "code",
   "execution_count": 4,
   "id": "fe33cf0c",
   "metadata": {},
   "outputs": [
    {
     "data": {
      "text/plain": [
       "69"
      ]
     },
     "metadata": {},
     "output_type": "display_data"
    }
   ],
   "source": [
    "# ternary operator\n",
    "#=\n",
    "a ? b : c\n",
    "\n",
    "equates to \n",
    "\n",
    "if a\n",
    "    b\n",
    "else\n",
    "    c\n",
    "end\n",
    "\n",
    "=#\n",
    "(x > y) ? x : y"
   ]
  },
  {
   "cell_type": "code",
   "execution_count": 5,
   "id": "b245723e",
   "metadata": {},
   "outputs": [
    {
     "data": {
      "text/plain": [
       "false"
      ]
     },
     "metadata": {},
     "output_type": "display_data"
    }
   ],
   "source": [
    "# a && b\n",
    "# b execute only if a is true\n",
    "(x > y) && println(\"$x is largen thean $y\")"
   ]
  },
  {
   "cell_type": "code",
   "execution_count": null,
   "id": "b31117d7",
   "metadata": {},
   "outputs": [],
   "source": [
    "(x < y) && println(\"$x is smaller thean $y\")"
   ]
  },
  {
   "cell_type": "code",
   "execution_count": null,
   "id": "8e5b8d6d",
   "metadata": {},
   "outputs": [],
   "source": []
  }
 ],
 "metadata": {
  "kernelspec": {
   "display_name": "Julia 1.9.2",
   "language": "julia",
   "name": "julia-1.9"
  },
  "language_info": {
   "file_extension": ".jl",
   "mimetype": "application/julia",
   "name": "julia",
   "version": "1.9.2"
  }
 },
 "nbformat": 4,
 "nbformat_minor": 5
}
