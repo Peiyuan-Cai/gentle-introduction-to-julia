{
 "cells": [
  {
   "cell_type": "markdown",
   "id": "c0e4acac",
   "metadata": {},
   "source": [
    "# Functions"
   ]
  },
  {
   "cell_type": "code",
   "execution_count": 2,
   "id": "eca58be1",
   "metadata": {},
   "outputs": [
    {
     "data": {
      "text/plain": [
       "sayhi (generic function with 1 method)"
      ]
     },
     "metadata": {},
     "output_type": "display_data"
    }
   ],
   "source": [
    "function sayhi(name)\n",
    "    println(\"Hi $name\")\n",
    "end"
   ]
  },
  {
   "cell_type": "code",
   "execution_count": 3,
   "id": "c4c09052",
   "metadata": {},
   "outputs": [
    {
     "data": {
      "text/plain": [
       "f (generic function with 1 method)"
      ]
     },
     "metadata": {},
     "output_type": "display_data"
    }
   ],
   "source": [
    "function f(x)\n",
    "    x ^ 2\n",
    "end"
   ]
  },
  {
   "cell_type": "code",
   "execution_count": 4,
   "id": "7f419106",
   "metadata": {},
   "outputs": [
    {
     "name": "stdout",
     "output_type": "stream",
     "text": [
      "Hi Seira\n"
     ]
    }
   ],
   "source": [
    "sayhi(\"Seira\")"
   ]
  },
  {
   "cell_type": "code",
   "execution_count": 5,
   "id": "3a8e8cd9",
   "metadata": {},
   "outputs": [
    {
     "data": {
      "text/plain": [
       "25"
      ]
     },
     "metadata": {},
     "output_type": "display_data"
    }
   ],
   "source": [
    "f(5)"
   ]
  },
  {
   "cell_type": "code",
   "execution_count": 6,
   "id": "15710a26",
   "metadata": {},
   "outputs": [
    {
     "data": {
      "text/plain": [
       "f2 (generic function with 1 method)"
      ]
     },
     "metadata": {},
     "output_type": "display_data"
    }
   ],
   "source": [
    "# declare functions in a single line, just = its output\n",
    "\n",
    "sayhi2(name) = println(\"Hi $name 2\")\n",
    "f2(x) = x ^2"
   ]
  },
  {
   "cell_type": "code",
   "execution_count": 7,
   "id": "73bbbab1",
   "metadata": {},
   "outputs": [
    {
     "name": "stdout",
     "output_type": "stream",
     "text": [
      "Hi Big Mom 2\n"
     ]
    },
    {
     "data": {
      "text/plain": [
       "36"
      ]
     },
     "metadata": {},
     "output_type": "display_data"
    }
   ],
   "source": [
    "sayhi2(\"Akane\")\n",
    "f2(6)"
   ]
  },
  {
   "cell_type": "code",
   "execution_count": 9,
   "id": "ef15b002",
   "metadata": {},
   "outputs": [
    {
     "name": "stdout",
     "output_type": "stream",
     "text": [
      "HI Shirayuki 3\n"
     ]
    },
    {
     "data": {
      "text/plain": [
       "49"
      ]
     },
     "metadata": {},
     "output_type": "display_data"
    }
   ],
   "source": [
    "# anonymous functions\n",
    "# func = input -> output or println\n",
    "\n",
    "sayhi3 = name -> println(\"HI $name 3\")\n",
    "f3 = x -> x ^2\n",
    "\n",
    "sayhi3(\"Shirayuki\")\n",
    "f3(7)"
   ]
  },
  {
   "cell_type": "markdown",
   "id": "041f1ae5",
   "metadata": {},
   "source": [
    "# Duck-typing\n",
    "\n",
    "\"If it quacks like a duck, it's a duck\"\n",
    "\n",
    "just work on whatever inputs make sense"
   ]
  },
  {
   "cell_type": "code",
   "execution_count": 10,
   "id": "e3f126cd",
   "metadata": {},
   "outputs": [
    {
     "name": "stdout",
     "output_type": "stream",
     "text": [
      "Hi 2332\n"
     ]
    }
   ],
   "source": [
    "# sayhi works on integers to, for example\n",
    "sayhi(2332)"
   ]
  },
  {
   "cell_type": "code",
   "execution_count": 11,
   "id": "f93ff4aa",
   "metadata": {},
   "outputs": [
    {
     "data": {
      "text/plain": [
       "3×3 Matrix{Float64}:\n",
       " 0.257496  0.642271   0.302009\n",
       " 0.227018  0.798262   0.631358\n",
       " 0.358269  0.0472449  0.266412"
      ]
     },
     "metadata": {},
     "output_type": "display_data"
    }
   ],
   "source": [
    "# f will work on a matrix\n",
    "A = rand(3, 3)\n",
    "A"
   ]
  },
  {
   "cell_type": "code",
   "execution_count": 12,
   "id": "03d9f973",
   "metadata": {},
   "outputs": [
    {
     "data": {
      "text/plain": [
       "3×3 Matrix{Float64}:\n",
       " 0.320312  0.692352  0.563728\n",
       " 0.465872  0.812858  0.740751\n",
       " 0.198425  0.280406  0.209004"
      ]
     },
     "metadata": {},
     "output_type": "display_data"
    }
   ],
   "source": [
    "f(A)"
   ]
  },
  {
   "cell_type": "code",
   "execution_count": 13,
   "id": "5df0f912",
   "metadata": {},
   "outputs": [
    {
     "data": {
      "text/plain": [
       "3×3 Matrix{Float64}:\n",
       " 0.320312  0.692352  0.563728\n",
       " 0.465872  0.812858  0.740751\n",
       " 0.198425  0.280406  0.209004"
      ]
     },
     "metadata": {},
     "output_type": "display_data"
    }
   ],
   "source": [
    "#it's equal to two matrix dot together, with matrix multiplication\n",
    "A * A"
   ]
  },
  {
   "cell_type": "code",
   "execution_count": 14,
   "id": "b0ab82dc",
   "metadata": {},
   "outputs": [
    {
     "ename": "MethodError",
     "evalue": "MethodError: no method matching ^(::Vector{Float64}, ::Int64)\n\nClosest candidates are:\n  ^(!Matched::Union{AbstractChar, AbstractString}, ::Integer)\n   @ Base strings/basic.jl:733\n  ^(!Matched::Rational, ::Integer)\n   @ Base rational.jl:491\n  ^(!Matched::LinearAlgebra.UniformScaling, ::Number)\n   @ LinearAlgebra ~/.julia/juliaup/julia-1.9.2+0.x64.linux.gnu/share/julia/stdlib/v1.9/LinearAlgebra/src/uniformscaling.jl:317\n  ...\n",
     "output_type": "error",
     "traceback": [
      "MethodError: no method matching ^(::Vector{Float64}, ::Int64)\n",
      "\n",
      "Closest candidates are:\n",
      "  ^(!Matched::Union{AbstractChar, AbstractString}, ::Integer)\n",
      "   @ Base strings/basic.jl:733\n",
      "  ^(!Matched::Rational, ::Integer)\n",
      "   @ Base rational.jl:491\n",
      "  ^(!Matched::LinearAlgebra.UniformScaling, ::Number)\n",
      "   @ LinearAlgebra ~/.julia/juliaup/julia-1.9.2+0.x64.linux.gnu/share/julia/stdlib/v1.9/LinearAlgebra/src/uniformscaling.jl:317\n",
      "  ...\n",
      "\n",
      "\n",
      "Stacktrace:\n",
      " [1] literal_pow\n",
      "   @ ./intfuncs.jl:338 [inlined]\n",
      " [2] f(x::Vector{Float64})\n",
      "   @ Main ~/trans/gentle-introduction-to-julia/6_functions.ipynb:2\n",
      " [3] top-level scope\n",
      "   @ ~/trans/gentle-introduction-to-julia/6_functions.ipynb:3"
     ]
    }
   ],
   "source": [
    "# but f won't work on a vector (ambiguoues behaviour, inner product or outer product)\n",
    "v = rand(3)\n",
    "f(v)"
   ]
  },
  {
   "cell_type": "markdown",
   "id": "3f5acd31",
   "metadata": {},
   "source": [
    "# Mutating vs. non-mutating functions\n",
    "\n",
    "Functions followed by ! alter their contents and functions lacking ! do not"
   ]
  },
  {
   "cell_type": "code",
   "execution_count": 15,
   "id": "f87fe58b",
   "metadata": {},
   "outputs": [
    {
     "data": {
      "text/plain": [
       "3-element Vector{Int64}:\n",
       " 2\n",
       " 3\n",
       " 5"
      ]
     },
     "metadata": {},
     "output_type": "display_data"
    }
   ],
   "source": [
    "v =  [3, 5, 2]\n",
    "sort(v)"
   ]
  },
  {
   "cell_type": "code",
   "execution_count": 16,
   "id": "229e1e6e",
   "metadata": {},
   "outputs": [
    {
     "data": {
      "text/plain": [
       "3-element Vector{Int64}:\n",
       " 3\n",
       " 5\n",
       " 2"
      ]
     },
     "metadata": {},
     "output_type": "display_data"
    }
   ],
   "source": [
    "v"
   ]
  },
  {
   "cell_type": "code",
   "execution_count": 17,
   "id": "6d62f6a5",
   "metadata": {},
   "outputs": [
    {
     "data": {
      "text/plain": [
       "3-element Vector{Int64}:\n",
       " 2\n",
       " 3\n",
       " 5"
      ]
     },
     "metadata": {},
     "output_type": "display_data"
    }
   ],
   "source": [
    "#the sort! modifies v itself\n",
    "sort!(v)"
   ]
  },
  {
   "cell_type": "code",
   "execution_count": 18,
   "id": "7c3b7ec5",
   "metadata": {},
   "outputs": [
    {
     "data": {
      "text/plain": [
       "3-element Vector{Int64}:\n",
       " 2\n",
       " 3\n",
       " 5"
      ]
     },
     "metadata": {},
     "output_type": "display_data"
    }
   ],
   "source": [
    "v"
   ]
  },
  {
   "cell_type": "markdown",
   "id": "071a21b4",
   "metadata": {},
   "source": [
    "# Broadcasting\n",
    "\n",
    "placing a . between any function name and its argument list, we tell the function to broadcast over the elements of the input objects."
   ]
  },
  {
   "cell_type": "code",
   "execution_count": 19,
   "id": "0f54fd3a",
   "metadata": {},
   "outputs": [
    {
     "data": {
      "text/plain": [
       "3×3 Matrix{Int64}:\n",
       " 1  2  3\n",
       " 4  5  6\n",
       " 7  8  9"
      ]
     },
     "execution_count": 19,
     "metadata": {},
     "output_type": "execute_result"
    }
   ],
   "source": [
    "A = [i + 3*j for j in 0:2, i in 1:3]"
   ]
  },
  {
   "cell_type": "code",
   "execution_count": 20,
   "id": "379ae67a",
   "metadata": {},
   "outputs": [
    {
     "data": {
      "text/plain": [
       "3×3 Matrix{Int64}:\n",
       "  30   36   42\n",
       "  66   81   96\n",
       " 102  126  150"
      ]
     },
     "execution_count": 20,
     "metadata": {},
     "output_type": "execute_result"
    }
   ],
   "source": [
    "#the matrix multiplication\n",
    "f(A)"
   ]
  },
  {
   "cell_type": "code",
   "execution_count": 21,
   "id": "566647aa",
   "metadata": {},
   "outputs": [
    {
     "data": {
      "text/plain": [
       "3×3 Matrix{Int64}:\n",
       "  1   4   9\n",
       " 16  25  36\n",
       " 49  64  81"
      ]
     },
     "execution_count": 21,
     "metadata": {},
     "output_type": "execute_result"
    }
   ],
   "source": [
    "#broadcasting: the f applies on every single elememt in A\n",
    "f.(A)"
   ]
  },
  {
   "cell_type": "code",
   "execution_count": 20,
   "id": "3775e894",
   "metadata": {},
   "outputs": [
    {
     "data": {
      "text/plain": [
       "3-element Vector{Int64}:\n",
       "  4\n",
       "  9\n",
       " 25"
      ]
     },
     "metadata": {},
     "output_type": "display_data"
    }
   ],
   "source": [
    "#we can now broadcast f over the v\n",
    "f.(v)"
   ]
  },
  {
   "cell_type": "code",
   "execution_count": null,
   "id": "434a74f5",
   "metadata": {},
   "outputs": [],
   "source": []
  }
 ],
 "metadata": {
  "kernelspec": {
   "display_name": "Julia 1.9.2",
   "language": "julia",
   "name": "julia-1.9"
  },
  "language_info": {
   "file_extension": ".jl",
   "mimetype": "application/julia",
   "name": "julia",
   "version": "1.9.2"
  }
 },
 "nbformat": 4,
 "nbformat_minor": 5
}
