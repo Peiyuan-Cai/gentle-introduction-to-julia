{
 "cells": [
  {
   "cell_type": "markdown",
   "id": "c2d04fdc",
   "metadata": {},
   "source": [
    "# Packages\n",
    "to see all available packages, check out https://pkg.julialang.org or https://juliaobserver.com"
   ]
  },
  {
   "cell_type": "code",
   "execution_count": 1,
   "id": "91333c8f",
   "metadata": {},
   "outputs": [],
   "source": [
    "using Pkg"
   ]
  },
  {
   "cell_type": "code",
   "execution_count": 2,
   "id": "7ef70ef8",
   "metadata": {},
   "outputs": [],
   "source": [
    "# to install, Pkg.add(\"example\") and to use, using example"
   ]
  },
  {
   "cell_type": "code",
   "execution_count": 3,
   "id": "c14b8f9a",
   "metadata": {},
   "outputs": [],
   "source": [
    "Pkg.add(\"Example\")\n",
    "# do this if you are not in the julia REPL"
   ]
  },
  {
   "cell_type": "code",
   "execution_count": null,
   "id": "eb86cc88",
   "metadata": {},
   "outputs": [],
   "source": [
    "using Example"
   ]
  },
  {
   "cell_type": "code",
   "execution_count": null,
   "id": "ee224ca4",
   "metadata": {},
   "outputs": [],
   "source": [
    "hello(\"it's me. Hi\")"
   ]
  },
  {
   "cell_type": "code",
   "execution_count": null,
   "id": "83f4fd87",
   "metadata": {},
   "outputs": [],
   "source": [
    "Pkg.add(\"Colors\")"
   ]
  },
  {
   "cell_type": "code",
   "execution_count": null,
   "id": "e5f78558",
   "metadata": {},
   "outputs": [],
   "source": [
    "using Colors"
   ]
  },
  {
   "cell_type": "code",
   "execution_count": null,
   "id": "db7c3624",
   "metadata": {},
   "outputs": [],
   "source": [
    "palette = distinguishable_colors(100)"
   ]
  },
  {
   "cell_type": "code",
   "execution_count": null,
   "id": "fdc8a16c",
   "metadata": {},
   "outputs": [],
   "source": [
    "rand(palette, 3, 3)"
   ]
  }
 ],
 "metadata": {
  "kernelspec": {
   "display_name": "Julia 1.9.2",
   "language": "julia",
   "name": "julia-1.9"
  },
  "language_info": {
   "file_extension": ".jl",
   "mimetype": "application/julia",
   "name": "julia",
   "version": "1.9.2"
  }
 },
 "nbformat": 4,
 "nbformat_minor": 5
}
