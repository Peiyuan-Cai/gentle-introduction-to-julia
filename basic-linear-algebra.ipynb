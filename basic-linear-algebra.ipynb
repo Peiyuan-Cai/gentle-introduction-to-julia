{
 "cells": [
  {
   "cell_type": "markdown",
   "id": "6607ff74",
   "metadata": {},
   "source": [
    "# Basic linear algebra"
   ]
  },
  {
   "cell_type": "code",
   "execution_count": 2,
   "id": "de93d47d",
   "metadata": {},
   "outputs": [
    {
     "data": {
      "text/plain": [
       "3×3 Matrix{Int64}:\n",
       " 2  4  1\n",
       " 1  4  1\n",
       " 2  4  4"
      ]
     },
     "execution_count": 2,
     "metadata": {},
     "output_type": "execute_result"
    }
   ],
   "source": [
    "A = rand(1:4, 3, 3)"
   ]
  },
  {
   "cell_type": "code",
   "execution_count": 3,
   "id": "d58663bc",
   "metadata": {},
   "outputs": [
    {
     "data": {
      "text/plain": [
       "3×6 Matrix{Int64}:\n",
       " 2  4  1  2  4  1\n",
       " 1  4  1  1  4  1\n",
       " 2  4  4  2  4  4"
      ]
     },
     "execution_count": 3,
     "metadata": {},
     "output_type": "execute_result"
    }
   ],
   "source": [
    "B = A\n",
    "C = copy(A)\n",
    "[B C]"
   ]
  },
  {
   "cell_type": "code",
   "execution_count": 4,
   "id": "a06c30b1",
   "metadata": {},
   "outputs": [
    {
     "data": {
      "text/plain": [
       "3×6 Matrix{Int64}:\n",
       " 17  4  1  2  4  1\n",
       "  1  4  1  1  4  1\n",
       "  2  4  4  2  4  4"
      ]
     },
     "execution_count": 4,
     "metadata": {},
     "output_type": "execute_result"
    }
   ],
   "source": [
    "# watch out!\n",
    "A[1] = 17\n",
    "[B C]"
   ]
  },
  {
   "cell_type": "code",
   "execution_count": 5,
   "id": "4abdc9a8",
   "metadata": {},
   "outputs": [
    {
     "data": {
      "text/plain": [
       "3-element Vector{Float64}:\n",
       " 1.0\n",
       " 1.0\n",
       " 1.0"
      ]
     },
     "execution_count": 5,
     "metadata": {},
     "output_type": "execute_result"
    }
   ],
   "source": [
    "x = ones(3)"
   ]
  },
  {
   "cell_type": "code",
   "execution_count": 6,
   "id": "94b030b1",
   "metadata": {},
   "outputs": [
    {
     "data": {
      "text/plain": [
       "3-element Vector{Float64}:\n",
       " 22.0\n",
       "  6.0\n",
       " 10.0"
      ]
     },
     "execution_count": 6,
     "metadata": {},
     "output_type": "execute_result"
    }
   ],
   "source": [
    "b = A * x"
   ]
  },
  {
   "cell_type": "code",
   "execution_count": 7,
   "id": "5e7f79f9",
   "metadata": {},
   "outputs": [
    {
     "data": {
      "text/plain": [
       "3×3 Matrix{Int64}:\n",
       " 34  5  3\n",
       "  5  8  5\n",
       "  3  5  8"
      ]
     },
     "execution_count": 7,
     "metadata": {},
     "output_type": "execute_result"
    }
   ],
   "source": [
    "# transpose -> A'\n",
    "Asym = A + A'"
   ]
  },
  {
   "cell_type": "code",
   "execution_count": 8,
   "id": "9cb0b943",
   "metadata": {},
   "outputs": [
    {
     "data": {
      "text/plain": [
       "3×3 Matrix{Int64}:\n",
       " 294  80  26\n",
       "  80  48  24\n",
       "  26  24  18"
      ]
     },
     "execution_count": 8,
     "metadata": {},
     "output_type": "execute_result"
    }
   ],
   "source": [
    "# transposed multiplciation doesn't require the *\n",
    "Apd = A'A"
   ]
  },
  {
   "cell_type": "code",
   "execution_count": 9,
   "id": "b31864b7",
   "metadata": {},
   "outputs": [
    {
     "data": {
      "text/plain": [
       "3-element Vector{Float64}:\n",
       " 1.0\n",
       " 1.0\n",
       " 1.0"
      ]
     },
     "execution_count": 9,
     "metadata": {},
     "output_type": "execute_result"
    }
   ],
   "source": [
    "# solve linear systems\n",
    "# The problems Ax = b is solved by\n",
    "\n",
    "A\\b"
   ]
  },
  {
   "cell_type": "code",
   "execution_count": 10,
   "id": "f84b7735",
   "metadata": {},
   "outputs": [
    {
     "data": {
      "text/plain": [
       "3×2 Matrix{Int64}:\n",
       " 17  4\n",
       "  1  4\n",
       "  2  4"
      ]
     },
     "metadata": {},
     "output_type": "display_data"
    },
    {
     "data": {
      "text/plain": [
       "2-element Vector{Float64}:\n",
       " 0.9128630705394183\n",
       " 1.6452282157676352"
      ]
     },
     "execution_count": 10,
     "metadata": {},
     "output_type": "execute_result"
    }
   ],
   "source": [
    "# overdetermined systems\n",
    "\n",
    "Atall = A[:, 1:2]\n",
    "display(Atall)\n",
    "Atall\\b"
   ]
  },
  {
   "cell_type": "code",
   "execution_count": 11,
   "id": "9a1a18fc",
   "metadata": {},
   "outputs": [
    {
     "data": {
      "text/plain": [
       "3×3 Matrix{Float64}:\n",
       " -0.127535   1.46096   -0.427948\n",
       " -0.487198  -0.264527  -0.636332\n",
       "  1.78368   -1.00151    1.61821"
      ]
     },
     "execution_count": 11,
     "metadata": {},
     "output_type": "execute_result"
    }
   ],
   "source": [
    "A = randn(3,3)"
   ]
  },
  {
   "cell_type": "code",
   "execution_count": 13,
   "id": "b97b5a58",
   "metadata": {},
   "outputs": [
    {
     "data": {
      "text/plain": [
       "2-element Vector{Float64}:\n",
       " 1.7623522622935575\n",
       " 1.762352262293557"
      ]
     },
     "execution_count": 13,
     "metadata": {},
     "output_type": "execute_result"
    }
   ],
   "source": [
    "[A[:, 1] A[:, 1]] \\ b"
   ]
  },
  {
   "cell_type": "code",
   "execution_count": 15,
   "id": "5c02a51f",
   "metadata": {},
   "outputs": [
    {
     "data": {
      "text/plain": [
       "2×3 Matrix{Float64}:\n",
       " -0.127535   1.46096   -0.427948\n",
       " -0.487198  -0.264527  -0.636332"
      ]
     },
     "metadata": {},
     "output_type": "display_data"
    },
    {
     "data": {
      "text/plain": [
       "3-element Vector{Float64}:\n",
       " -5.674906760732092\n",
       " 11.654776918556653\n",
       " -9.929083902361821"
      ]
     },
     "execution_count": 15,
     "metadata": {},
     "output_type": "execute_result"
    }
   ],
   "source": [
    "# underdetermined systems\n",
    "\n",
    "Ashort = A[1:2, :]\n",
    "display(Ashort)\n",
    "Ashort \\ b[1:2]"
   ]
  }
 ],
 "metadata": {
  "kernelspec": {
   "display_name": "Julia 1.9.2",
   "language": "julia",
   "name": "julia-1.9"
  },
  "language_info": {
   "file_extension": ".jl",
   "mimetype": "application/julia",
   "name": "julia",
   "version": "1.9.2"
  }
 },
 "nbformat": 4,
 "nbformat_minor": 5
}
