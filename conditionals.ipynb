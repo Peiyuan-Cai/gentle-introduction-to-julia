{
 "cells": [
  {
   "cell_type": "markdown",
   "id": "22d929b8",
   "metadata": {},
   "source": [
    "# Conditionals"
   ]
  },
  {
   "cell_type": "code",
   "execution_count": 8,
   "id": "92b34671",
   "metadata": {},
   "outputs": [],
   "source": [
    "x = 42\n",
    "y = 69;"
   ]
  },
  {
   "cell_type": "code",
   "execution_count": 9,
   "id": "42a3796b",
   "metadata": {},
   "outputs": [
    {
     "name": "stdout",
     "output_type": "stream",
     "text": [
      "69 is larger than 42\n"
     ]
    }
   ],
   "source": [
    "if x > y\n",
    "    println(\"$x in larger than $y\")\n",
    "elseif y > x\n",
    "    println(\"$y is larger than $x\")\n",
    "else\n",
    "    println(\"$x and $y are equal\")\n",
    "end"
   ]
  },
  {
   "cell_type": "code",
   "execution_count": 10,
   "id": "ee0f33a7",
   "metadata": {},
   "outputs": [
    {
     "data": {
      "text/plain": [
       "69"
      ]
     },
     "execution_count": 10,
     "metadata": {},
     "output_type": "execute_result"
    }
   ],
   "source": [
    "if x > y\n",
    "    x\n",
    "else \n",
    "    y\n",
    "end"
   ]
  },
  {
   "cell_type": "code",
   "execution_count": 12,
   "id": "fe33cf0c",
   "metadata": {},
   "outputs": [
    {
     "data": {
      "text/plain": [
       "69"
      ]
     },
     "execution_count": 12,
     "metadata": {},
     "output_type": "execute_result"
    }
   ],
   "source": [
    "# ternary operator\n",
    "(x > y) ? x : y"
   ]
  },
  {
   "cell_type": "code",
   "execution_count": 13,
   "id": "b245723e",
   "metadata": {},
   "outputs": [
    {
     "data": {
      "text/plain": [
       "false"
      ]
     },
     "execution_count": 13,
     "metadata": {},
     "output_type": "execute_result"
    }
   ],
   "source": [
    "(x > y) && println(\"$x is largen thean $y\")"
   ]
  },
  {
   "cell_type": "code",
   "execution_count": 14,
   "id": "b31117d7",
   "metadata": {},
   "outputs": [
    {
     "name": "stdout",
     "output_type": "stream",
     "text": [
      "42 is smaller thean 69\n"
     ]
    }
   ],
   "source": [
    "(x < y) && println(\"$x is smaller thean $y\")"
   ]
  },
  {
   "cell_type": "code",
   "execution_count": null,
   "id": "8e5b8d6d",
   "metadata": {},
   "outputs": [],
   "source": []
  }
 ],
 "metadata": {
  "kernelspec": {
   "display_name": "Julia 1.9.2",
   "language": "julia",
   "name": "julia-1.9"
  },
  "language_info": {
   "file_extension": ".jl",
   "mimetype": "application/julia",
   "name": "julia",
   "version": "1.9.2"
  }
 },
 "nbformat": 4,
 "nbformat_minor": 5
}
