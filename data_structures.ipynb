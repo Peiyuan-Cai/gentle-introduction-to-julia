{
 "cells": [
  {
   "cell_type": "markdown",
   "id": "8aacf87d",
   "metadata": {},
   "source": [
    "# Dictionaries"
   ]
  },
  {
   "cell_type": "code",
   "execution_count": 7,
   "id": "ecd3ba8d",
   "metadata": {},
   "outputs": [
    {
     "data": {
      "text/plain": [
       "Dict{String, String} with 3 entries:\n",
       "  \"Sanji\" => \"789\"\n",
       "  \"Luffy\" => \"123\"\n",
       "  \"Zoro\"  => \"456\""
      ]
     },
     "execution_count": 7,
     "metadata": {},
     "output_type": "execute_result"
    }
   ],
   "source": [
    "myphonebook = Dict(\"Luffy\" => \"123\", \"Zoro\" => \"456\", \"Sanji\" => \"789\")"
   ]
  },
  {
   "cell_type": "code",
   "execution_count": 10,
   "id": "493c6241",
   "metadata": {},
   "outputs": [
    {
     "data": {
      "text/plain": [
       "Dict{String, String} with 3 entries:\n",
       "  \"Nami\"  => \"10928\"\n",
       "  \"Luffy\" => \"123\"\n",
       "  \"Zoro\"  => \"456\""
      ]
     },
     "execution_count": 10,
     "metadata": {},
     "output_type": "execute_result"
    }
   ],
   "source": [
    "myphonebook[\"Nami\"] = \"10928\"\n",
    "myphonebook"
   ]
  },
  {
   "cell_type": "code",
   "execution_count": 4,
   "id": "8aa03674",
   "metadata": {},
   "outputs": [
    {
     "data": {
      "text/plain": [
       "\"123\""
      ]
     },
     "execution_count": 4,
     "metadata": {},
     "output_type": "execute_result"
    }
   ],
   "source": [
    "myphonebook[\"Luffy\"]"
   ]
  },
  {
   "cell_type": "code",
   "execution_count": 8,
   "id": "131314d0",
   "metadata": {},
   "outputs": [
    {
     "data": {
      "text/plain": [
       "\"789\""
      ]
     },
     "execution_count": 8,
     "metadata": {},
     "output_type": "execute_result"
    }
   ],
   "source": [
    "# get key value and remove it from dict\n",
    "pop!(myphonebook, \"Sanji\")"
   ]
  },
  {
   "cell_type": "code",
   "execution_count": 11,
   "id": "fab4e9d7",
   "metadata": {},
   "outputs": [
    {
     "data": {
      "text/plain": [
       "Dict{String, String} with 3 entries:\n",
       "  \"Nami\"  => \"10928\"\n",
       "  \"Luffy\" => \"123\"\n",
       "  \"Zoro\"  => \"456\""
      ]
     },
     "execution_count": 11,
     "metadata": {},
     "output_type": "execute_result"
    }
   ],
   "source": [
    "myphonebook"
   ]
  },
  {
   "cell_type": "code",
   "execution_count": 12,
   "id": "cc0f1f93",
   "metadata": {},
   "outputs": [
    {
     "ename": "LoadError",
     "evalue": "KeyError: key 1 not found",
     "output_type": "error",
     "traceback": [
      "KeyError: key 1 not found",
      "",
      "Stacktrace:",
      " [1] getindex(h::Dict{String, String}, key::Int64)",
      "   @ Base ./dict.jl:484",
      " [2] top-level scope",
      "   @ In[12]:2"
     ]
    }
   ],
   "source": [
    "# dicts are not ordered\n",
    "myphonebook[1]"
   ]
  },
  {
   "cell_type": "markdown",
   "id": "897226e6",
   "metadata": {},
   "source": [
    "# Tuples"
   ]
  },
  {
   "cell_type": "code",
   "execution_count": 13,
   "id": "cb692ad2",
   "metadata": {},
   "outputs": [
    {
     "data": {
      "text/plain": [
       "(\"honey badger\", \"hedgehog\", \"shark\", \"t. rex\")"
      ]
     },
     "execution_count": 13,
     "metadata": {},
     "output_type": "execute_result"
    }
   ],
   "source": [
    "myfavoriteanimals = (\"honey badger\", \"hedgehog\", \"shark\", \"t. rex\")"
   ]
  },
  {
   "cell_type": "code",
   "execution_count": 14,
   "id": "1ba84670",
   "metadata": {},
   "outputs": [
    {
     "data": {
      "text/plain": [
       "\"honey badger\""
      ]
     },
     "execution_count": 14,
     "metadata": {},
     "output_type": "execute_result"
    }
   ],
   "source": [
    "# tuples are ordered\n",
    "myfavoriteanimals[1]"
   ]
  },
  {
   "cell_type": "code",
   "execution_count": 16,
   "id": "a446de97",
   "metadata": {},
   "outputs": [
    {
     "ename": "LoadError",
     "evalue": "MethodError: no method matching setindex!(::NTuple{4, String}, ::String, ::Int64)",
     "output_type": "error",
     "traceback": [
      "MethodError: no method matching setindex!(::NTuple{4, String}, ::String, ::Int64)",
      "",
      "Stacktrace:",
      " [1] top-level scope",
      "   @ In[16]:2"
     ]
    }
   ],
   "source": [
    "# but they are immutable, so this is an error\n",
    "myfavoriteanimals[1] = \"lion\""
   ]
  },
  {
   "cell_type": "markdown",
   "id": "5a398b36",
   "metadata": {},
   "source": [
    "# Arrays"
   ]
  },
  {
   "cell_type": "code",
   "execution_count": 17,
   "id": "6ed3fc85",
   "metadata": {},
   "outputs": [
    {
     "data": {
      "text/plain": [
       "3-element Vector{String}:\n",
       " \"naruto\"\n",
       " \"sasuke\"\n",
       " \"rock lee\""
      ]
     },
     "execution_count": 17,
     "metadata": {},
     "output_type": "execute_result"
    }
   ],
   "source": [
    "# ordered and mutable\n",
    "myfriends = [\"naruto\", \"sasuke\", \"rock lee\"]"
   ]
  },
  {
   "cell_type": "code",
   "execution_count": 19,
   "id": "e23d4788",
   "metadata": {},
   "outputs": [
    {
     "data": {
      "text/plain": [
       "8-element Vector{Int64}:\n",
       "  1\n",
       "  1\n",
       "  2\n",
       "  3\n",
       "  5\n",
       "  8\n",
       " 13\n",
       " 21"
      ]
     },
     "execution_count": 19,
     "metadata": {},
     "output_type": "execute_result"
    }
   ],
   "source": [
    "fibonacci = [1, 1, 2, 3, 5, 8, 13 ,21]"
   ]
  },
  {
   "cell_type": "code",
   "execution_count": 21,
   "id": "975878c3",
   "metadata": {},
   "outputs": [
    {
     "data": {
      "text/plain": [
       "4-element Vector{Any}:\n",
       " 1\n",
       " 2\n",
       " 3.0\n",
       "  \"hi\""
      ]
     },
     "execution_count": 21,
     "metadata": {},
     "output_type": "execute_result"
    }
   ],
   "source": [
    "mix = [1, 2, 3.0, \"hi\"]"
   ]
  },
  {
   "cell_type": "code",
   "execution_count": 22,
   "id": "fb4ae0e7",
   "metadata": {},
   "outputs": [
    {
     "data": {
      "text/plain": [
       "\"sasuke\""
      ]
     },
     "execution_count": 22,
     "metadata": {},
     "output_type": "execute_result"
    }
   ],
   "source": [
    "myfriends[2]"
   ]
  },
  {
   "cell_type": "code",
   "execution_count": 23,
   "id": "8dc87df8",
   "metadata": {},
   "outputs": [
    {
     "data": {
      "text/plain": [
       "3-element Vector{String}:\n",
       " \"naruto\"\n",
       " \"kakashi\"\n",
       " \"rock lee\""
      ]
     },
     "execution_count": 23,
     "metadata": {},
     "output_type": "execute_result"
    }
   ],
   "source": [
    "myfriends[2] = \"kakashi\"\n",
    "myfriends"
   ]
  },
  {
   "cell_type": "code",
   "execution_count": 24,
   "id": "dc315953",
   "metadata": {},
   "outputs": [
    {
     "data": {
      "text/plain": [
       "4-element Vector{String}:\n",
       " \"naruto\"\n",
       " \"kakashi\"\n",
       " \"rock lee\"\n",
       " \"orochimaru\""
      ]
     },
     "execution_count": 24,
     "metadata": {},
     "output_type": "execute_result"
    }
   ],
   "source": [
    "# push! insert element in the end of array and pop! removes element from end of array\n",
    "push!(myfriends, \"orochimaru\")"
   ]
  },
  {
   "cell_type": "code",
   "execution_count": 25,
   "id": "a351523a",
   "metadata": {},
   "outputs": [
    {
     "data": {
      "text/plain": [
       "\"orochimaru\""
      ]
     },
     "execution_count": 25,
     "metadata": {},
     "output_type": "execute_result"
    }
   ],
   "source": [
    "pop!(myfriends)"
   ]
  },
  {
   "cell_type": "code",
   "execution_count": 26,
   "id": "f7ab62f2",
   "metadata": {},
   "outputs": [
    {
     "data": {
      "text/plain": [
       "3-element Vector{String}:\n",
       " \"naruto\"\n",
       " \"kakashi\"\n",
       " \"rock lee\""
      ]
     },
     "execution_count": 26,
     "metadata": {},
     "output_type": "execute_result"
    }
   ],
   "source": [
    "myfriends"
   ]
  },
  {
   "cell_type": "code",
   "execution_count": 27,
   "id": "67d7219b",
   "metadata": {},
   "outputs": [
    {
     "data": {
      "text/plain": [
       "3-element Vector{Vector{Int64}}:\n",
       " [1, 2, 3]\n",
       " [4, 5]\n",
       " [6, 7, 8, 9]"
      ]
     },
     "execution_count": 27,
     "metadata": {},
     "output_type": "execute_result"
    }
   ],
   "source": [
    "# arrays can have an arbitrary number of dimensions and store other arrays\n",
    "matrix = [[1, 2, 3], [4, 5], [6, 7, 8, 9]]"
   ]
  },
  {
   "cell_type": "code",
   "execution_count": null,
   "id": "09e561ce",
   "metadata": {},
   "outputs": [],
   "source": []
  },
  {
   "cell_type": "code",
   "execution_count": null,
   "id": "af8532b8",
   "metadata": {},
   "outputs": [],
   "source": []
  }
 ],
 "metadata": {
  "kernelspec": {
   "display_name": "Julia 1.9.2",
   "language": "julia",
   "name": "julia-1.9"
  },
  "language_info": {
   "file_extension": ".jl",
   "mimetype": "application/julia",
   "name": "julia",
   "version": "1.9.2"
  }
 },
 "nbformat": 4,
 "nbformat_minor": 5
}
