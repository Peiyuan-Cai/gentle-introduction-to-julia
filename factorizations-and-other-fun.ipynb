{
 "cells": [
  {
   "cell_type": "markdown",
   "id": "eced10e5",
   "metadata": {},
   "source": [
    "# Factorization and other fun"
   ]
  },
  {
   "cell_type": "code",
   "execution_count": 1,
   "id": "fab7f070",
   "metadata": {},
   "outputs": [
    {
     "data": {
      "text/plain": [
       "3×3 Matrix{Float64}:\n",
       " -0.284254   1.34786    0.348285\n",
       " -1.46454   -0.560375   0.923598\n",
       " -0.602762  -1.70215   -0.308921"
      ]
     },
     "execution_count": 1,
     "metadata": {},
     "output_type": "execute_result"
    }
   ],
   "source": [
    "A = randn(3, 3)"
   ]
  },
  {
   "cell_type": "code",
   "execution_count": 8,
   "id": "300aca6e",
   "metadata": {},
   "outputs": [],
   "source": [
    "using LinearAlgebra"
   ]
  },
  {
   "cell_type": "code",
   "execution_count": 7,
   "id": "24afc531",
   "metadata": {},
   "outputs": [
    {
     "data": {
      "text/plain": [
       "LU{Float64, Matrix{Float64}, Vector{Int64}}\n",
       "L factor:\n",
       "3×3 Matrix{Float64}:\n",
       " 1.0        0.0       0.0\n",
       " 0.411572   1.0       0.0\n",
       " 0.194091  -0.989882  1.0\n",
       "U factor:\n",
       "3×3 Matrix{Float64}:\n",
       " -1.46454  -0.560375   0.923598\n",
       "  0.0      -1.47151   -0.689048\n",
       "  0.0       0.0       -0.513055"
      ]
     },
     "execution_count": 7,
     "metadata": {},
     "output_type": "execute_result"
    }
   ],
   "source": [
    "l,u, p = lu(A)"
   ]
  },
  {
   "cell_type": "code",
   "execution_count": 5,
   "id": "bf656258",
   "metadata": {},
   "outputs": [
    {
     "data": {
      "text/plain": [
       "4.332054485826372"
      ]
     },
     "metadata": {},
     "output_type": "display_data"
    },
    {
     "data": {
      "text/plain": [
       "5.551115123125783e-17"
      ]
     },
     "metadata": {},
     "output_type": "display_data"
    }
   ],
   "source": [
    "display(norm(l * u - A))\n",
    "display(norm(l * u - A[p, :]))"
   ]
  },
  {
   "cell_type": "code",
   "execution_count": 11,
   "id": "ab106372",
   "metadata": {},
   "outputs": [
    {
     "data": {
      "text/plain": [
       "3-element Vector{Float64}:\n",
       "  1.4118891449708215\n",
       " -1.101312669380945\n",
       " -2.6138282272606794"
      ]
     },
     "execution_count": 11,
     "metadata": {},
     "output_type": "execute_result"
    }
   ],
   "source": [
    "x = ones(3)\n",
    "b = A * x"
   ]
  },
  {
   "cell_type": "code",
   "execution_count": 12,
   "id": "92a7a26d",
   "metadata": {},
   "outputs": [
    {
     "data": {
      "text/plain": [
       "-1.1056746877448151"
      ]
     },
     "execution_count": 12,
     "metadata": {},
     "output_type": "execute_result"
    }
   ],
   "source": [
    "det(A)"
   ]
  },
  {
   "cell_type": "code",
   "execution_count": 13,
   "id": "20403fe9",
   "metadata": {},
   "outputs": [
    {
     "data": {
      "text/plain": [
       "LinearAlgebra.QRCompactWY{Float64, Matrix{Float64}, Matrix{Float64}}\n",
       "Q factor:\n",
       "3×3 LinearAlgebra.QRCompactWYQ{Float64, Matrix{Float64}, Matrix{Float64}}:\n",
       " -0.176661   0.736033   0.653488\n",
       " -0.910196   0.130526  -0.393072\n",
       " -0.374611  -0.664243   0.646876\n",
       "R factor:\n",
       "3×3 Matrix{Float64}:\n",
       " 1.60903  0.909579  -0.786459\n",
       " 0.0      2.04956    0.582101\n",
       " 0.0      0.0       -0.335275"
      ]
     },
     "execution_count": 13,
     "metadata": {},
     "output_type": "execute_result"
    }
   ],
   "source": [
    "Aqr = qr(A)"
   ]
  },
  {
   "cell_type": "code",
   "execution_count": 14,
   "id": "d7768ede",
   "metadata": {},
   "outputs": [
    {
     "data": {
      "text/plain": [
       "Eigen{Float64, Float64, Matrix{Float64}, Vector{Float64}}\n",
       "values:\n",
       "3-element Vector{Float64}:\n",
       " -1.7388416304725516\n",
       " -0.5533848690128936\n",
       " -0.014874266642381293\n",
       "vectors:\n",
       "3×3 Matrix{Float64}:\n",
       " -0.206022   0.944564  -0.255645\n",
       " -0.781192  -0.316093  -0.538353\n",
       " -0.589316   0.088795   0.803008"
      ]
     },
     "execution_count": 14,
     "metadata": {},
     "output_type": "execute_result"
    }
   ],
   "source": [
    "Asym = A + A'\n",
    "eigen(Asym)"
   ]
  },
  {
   "cell_type": "code",
   "execution_count": 15,
   "id": "e69d833a",
   "metadata": {},
   "outputs": [
    {
     "data": {
      "text/plain": [
       "SVD{Float64, Float64, Matrix{Float64}, Vector{Float64}}\n",
       "U factor:\n",
       "3×2 Matrix{Float64}:\n",
       "  0.460202   0.600973\n",
       " -0.472191   0.789006\n",
       " -0.751831  -0.127678\n",
       "singular values:\n",
       "2-element Vector{Float64}:\n",
       " 2.3903057368656206\n",
       " 1.3796620670241715\n",
       "Vt factor:\n",
       "2×2 Matrix{Float64}:\n",
       "  0.424172  0.905581\n",
       " -0.905581  0.424172"
      ]
     },
     "execution_count": 15,
     "metadata": {},
     "output_type": "execute_result"
    }
   ],
   "source": [
    "Asvd = svd(A[:, 1:2])"
   ]
  },
  {
   "cell_type": "code",
   "execution_count": 16,
   "id": "e9e3b5a2",
   "metadata": {},
   "outputs": [
    {
     "data": {
      "text/plain": [
       "2-element Vector{Float64}:\n",
       " 0.35067175979073706\n",
       " 1.2840123408297102"
      ]
     },
     "execution_count": 16,
     "metadata": {},
     "output_type": "execute_result"
    }
   ],
   "source": [
    "Asvd \\ b"
   ]
  },
  {
   "cell_type": "code",
   "execution_count": 17,
   "id": "ff480a1e",
   "metadata": {},
   "outputs": [
    {
     "data": {
      "text/plain": [
       "3×3 Diagonal{Float64, Vector{Float64}}:\n",
       " -0.284254    ⋅          ⋅ \n",
       "   ⋅        -0.560375    ⋅ \n",
       "   ⋅          ⋅        -0.308921"
      ]
     },
     "execution_count": 17,
     "metadata": {},
     "output_type": "execute_result"
    }
   ],
   "source": [
    "Diagonal(diag(A))"
   ]
  },
  {
   "cell_type": "code",
   "execution_count": 18,
   "id": "b3de6376",
   "metadata": {},
   "outputs": [
    {
     "data": {
      "text/plain": [
       "3×3 Diagonal{Float64, Vector{Float64}}:\n",
       " -0.284254    ⋅          ⋅ \n",
       "   ⋅        -0.560375    ⋅ \n",
       "   ⋅          ⋅        -0.308921"
      ]
     },
     "execution_count": 18,
     "metadata": {},
     "output_type": "execute_result"
    }
   ],
   "source": [
    "Diagonal(A)"
   ]
  },
  {
   "cell_type": "code",
   "execution_count": 19,
   "id": "829c41f1",
   "metadata": {},
   "outputs": [
    {
     "data": {
      "text/plain": [
       "3×3 LowerTriangular{Float64, Matrix{Float64}}:\n",
       " -0.284254    ⋅          ⋅ \n",
       " -1.46454   -0.560375    ⋅ \n",
       " -0.602762  -1.70215   -0.308921"
      ]
     },
     "execution_count": 19,
     "metadata": {},
     "output_type": "execute_result"
    }
   ],
   "source": [
    "LowerTriangular(A)"
   ]
  },
  {
   "cell_type": "code",
   "execution_count": 20,
   "id": "21711fdc",
   "metadata": {},
   "outputs": [
    {
     "data": {
      "text/plain": [
       "3×3 Symmetric{Float64, Matrix{Float64}}:\n",
       " -0.568508  -0.116677  -0.254477\n",
       " -0.116677  -1.12075   -0.778547\n",
       " -0.254477  -0.778547  -0.617843"
      ]
     },
     "execution_count": 20,
     "metadata": {},
     "output_type": "execute_result"
    }
   ],
   "source": [
    "Symmetric(Asym)"
   ]
  },
  {
   "cell_type": "code",
   "execution_count": 21,
   "id": "e346654a",
   "metadata": {},
   "outputs": [
    {
     "data": {
      "text/plain": [
       "3×3 SymTridiagonal{Float64, Vector{Float64}}:\n",
       " -0.568508  -0.116677    ⋅ \n",
       " -0.116677  -1.12075   -0.778547\n",
       "   ⋅        -0.778547  -0.617843"
      ]
     },
     "execution_count": 21,
     "metadata": {},
     "output_type": "execute_result"
    }
   ],
   "source": [
    "SymTridiagonal(diag(Asym), diag(Asym, 1))"
   ]
  },
  {
   "cell_type": "code",
   "execution_count": 22,
   "id": "2c885790",
   "metadata": {},
   "outputs": [
    {
     "name": "stdout",
     "output_type": "stream",
     "text": [
      "Is Asym1 symmetric? true\n",
      "Is Asym2 symmetric? false\n"
     ]
    }
   ],
   "source": [
    "n = 1000\n",
    "A = randn(n, n)\n",
    "Asym1 = A + A'\n",
    "Asym2 = copy(Asym1)\n",
    "Asym2[1, 2] += 5eps()\n",
    "println(\"Is Asym1 symmetric? \", issymmetric(Asym1))\n",
    "println(\"Is Asym2 symmetric? \", issymmetric(Asym2))"
   ]
  },
  {
   "cell_type": "code",
   "execution_count": 24,
   "id": "b39b3c52",
   "metadata": {},
   "outputs": [
    {
     "name": "stdout",
     "output_type": "stream",
     "text": [
      "  0.033334 seconds (11 allocations: 7.989 MiB)\n"
     ]
    },
    {
     "data": {
      "text/plain": [
       "1000-element Vector{Float64}:\n",
       " -87.84270769969473\n",
       " -87.4324143989015\n",
       " -86.92275506424438\n",
       " -86.87304332615322\n",
       " -85.34600110114236\n",
       " -84.74407317761087\n",
       " -84.37540230501796\n",
       " -84.21107740062789\n",
       " -83.98041133835721\n",
       " -83.83756297144944\n",
       " -83.73529296483625\n",
       " -82.83057830614393\n",
       " -82.58661601020194\n",
       "   ⋮\n",
       "  83.3758593190869\n",
       "  83.76047236879162\n",
       "  83.81929508728271\n",
       "  84.3994775228479\n",
       "  85.01404148971623\n",
       "  85.76185126815534\n",
       "  86.03759455318797\n",
       "  86.20255755512649\n",
       "  86.73922114595227\n",
       "  87.27557174152776\n",
       "  88.30767378826799\n",
       "  89.56030393430737"
      ]
     },
     "execution_count": 24,
     "metadata": {},
     "output_type": "execute_result"
    }
   ],
   "source": [
    "@time eigvals(Asym1)"
   ]
  },
  {
   "cell_type": "code",
   "execution_count": 23,
   "id": "815e8a4c",
   "metadata": {},
   "outputs": [
    {
     "name": "stdout",
     "output_type": "stream",
     "text": [
      "  0.506980 seconds (274.83 k allocations: 26.163 MiB, 46.83% compilation time)\n"
     ]
    },
    {
     "data": {
      "text/plain": [
       "1000-element Vector{Float64}:\n",
       " -87.84270769969544\n",
       " -87.43241439890232\n",
       " -86.92275506424447\n",
       " -86.87304332615328\n",
       " -85.34600110114286\n",
       " -84.74407317761192\n",
       " -84.37540230501827\n",
       " -84.21107740062901\n",
       " -83.98041133835753\n",
       " -83.83756297144933\n",
       " -83.73529296483589\n",
       " -82.83057830614449\n",
       " -82.58661601020172\n",
       "   ⋮\n",
       "  83.37585931908723\n",
       "  83.7604723687931\n",
       "  83.8192950872833\n",
       "  84.39947752284748\n",
       "  85.01404148971615\n",
       "  85.76185126815652\n",
       "  86.03759455318753\n",
       "  86.20255755512687\n",
       "  86.73922114595216\n",
       "  87.27557174152813\n",
       "  88.30767378826904\n",
       "  89.56030393430804"
      ]
     },
     "execution_count": 23,
     "metadata": {},
     "output_type": "execute_result"
    }
   ],
   "source": [
    "@time eigvals(Asym2)"
   ]
  },
  {
   "cell_type": "code",
   "execution_count": 25,
   "id": "c2b6dd08",
   "metadata": {},
   "outputs": [
    {
     "name": "stdout",
     "output_type": "stream",
     "text": [
      "  0.081119 seconds (58.68 k allocations: 11.974 MiB, 9.18% gc time, 58.52% compilation time)\n"
     ]
    },
    {
     "data": {
      "text/plain": [
       "1000-element Vector{Float64}:\n",
       " -87.84270769969524\n",
       " -87.4324143989015\n",
       " -86.9227550642439\n",
       " -86.87304332615297\n",
       " -85.34600110114229\n",
       " -84.74407317761091\n",
       " -84.37540230501838\n",
       " -84.21107740062844\n",
       " -83.98041133835723\n",
       " -83.83756297144872\n",
       " -83.73529296483609\n",
       " -82.83057830614455\n",
       " -82.58661601020214\n",
       "   ⋮\n",
       "  83.37585931908784\n",
       "  83.7604723687921\n",
       "  83.81929508728291\n",
       "  84.3994775228474\n",
       "  85.01404148971554\n",
       "  85.76185126815572\n",
       "  86.03759455318678\n",
       "  86.20255755512628\n",
       "  86.73922114595179\n",
       "  87.27557174152747\n",
       "  88.30767378827008\n",
       "  89.56030393430663"
      ]
     },
     "execution_count": 25,
     "metadata": {},
     "output_type": "execute_result"
    }
   ],
   "source": [
    "@time eigvals(Symmetric(Asym2))"
   ]
  },
  {
   "cell_type": "code",
   "execution_count": 27,
   "id": "501ec4f2",
   "metadata": {},
   "outputs": [
    {
     "data": {
      "text/plain": [
       "3×3 Matrix{Rational{BigInt}}:\n",
       " 1//2  2//5   1//1\n",
       " 1//5  1//10  3//5\n",
       " 1//1  3//5   1//10"
      ]
     },
     "execution_count": 27,
     "metadata": {},
     "output_type": "execute_result"
    }
   ],
   "source": [
    "Ar = convert(Matrix{Rational{BigInt}}, rand(1:10, 3, 3)) / 10"
   ]
  },
  {
   "cell_type": "code",
   "execution_count": 28,
   "id": "334a5733",
   "metadata": {},
   "outputs": [
    {
     "data": {
      "text/plain": [
       "3-element Vector{Rational{BigInt}}:\n",
       " 19//10\n",
       "  9//10\n",
       " 17//10"
      ]
     },
     "execution_count": 28,
     "metadata": {},
     "output_type": "execute_result"
    }
   ],
   "source": [
    "x = ones(Int, 3)\n",
    "b = Ar * x"
   ]
  }
 ],
 "metadata": {
  "kernelspec": {
   "display_name": "Julia 1.9.2",
   "language": "julia",
   "name": "julia-1.9"
  },
  "language_info": {
   "file_extension": ".jl",
   "mimetype": "application/julia",
   "name": "julia",
   "version": "1.9.2"
  }
 },
 "nbformat": 4,
 "nbformat_minor": 5
}
