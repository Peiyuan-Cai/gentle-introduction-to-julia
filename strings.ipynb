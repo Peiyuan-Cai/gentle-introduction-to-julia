{
 "cells": [
  {
   "cell_type": "code",
   "execution_count": 1,
   "id": "a44f08ec",
   "metadata": {},
   "outputs": [
    {
     "data": {
      "text/plain": [
       "\"I am also a string\""
      ]
     },
     "execution_count": 1,
     "metadata": {},
     "output_type": "execute_result"
    }
   ],
   "source": [
    "s1 = \"I am a string\"\n",
    "s2 = \"\"\"I am also a string\"\"\""
   ]
  },
  {
   "cell_type": "code",
   "execution_count": 2,
   "id": "1a88ea64",
   "metadata": {},
   "outputs": [
    {
     "ename": "LoadError",
     "evalue": "syntax: cannot juxtapose string literal",
     "output_type": "error",
     "traceback": [
      "syntax: cannot juxtapose string literal",
      "",
      "Stacktrace:",
      " [1] top-level scope",
      "   @ In[2]:1"
     ]
    }
   ],
   "source": [
    "\"Here, we get an \"error\" because it's ambiguous where this string actually ends\""
   ]
  },
  {
   "cell_type": "code",
   "execution_count": 3,
   "id": "f1956e9c",
   "metadata": {},
   "outputs": [
    {
     "data": {
      "text/plain": [
       "\"Look Igor, no \\\"errors\\\" \""
      ]
     },
     "execution_count": 3,
     "metadata": {},
     "output_type": "execute_result"
    }
   ],
   "source": [
    "\"\"\"Look Igor, no \"errors\" \"\"\""
   ]
  },
  {
   "cell_type": "code",
   "execution_count": 4,
   "id": "3a46a2e5",
   "metadata": {},
   "outputs": [
    {
     "data": {
      "text/plain": [
       "Char"
      ]
     },
     "execution_count": 4,
     "metadata": {},
     "output_type": "execute_result"
    }
   ],
   "source": [
    "# char != string\n",
    "typeof('a')"
   ]
  },
  {
   "cell_type": "code",
   "execution_count": 5,
   "id": "94727bcf",
   "metadata": {},
   "outputs": [
    {
     "ename": "LoadError",
     "evalue": "syntax: character literal contains multiple characters",
     "output_type": "error",
     "traceback": [
      "syntax: character literal contains multiple characters",
      "",
      "Stacktrace:",
      " [1] top-level scope",
      "   @ In[5]:1"
     ]
    }
   ],
   "source": [
    "'We will get an error here'"
   ]
  },
  {
   "cell_type": "code",
   "execution_count": 9,
   "id": "5708d9dd",
   "metadata": {},
   "outputs": [
    {
     "name": "stdout",
     "output_type": "stream",
     "text": [
      "Hello, my name is Luffy.\n",
      "I ate the Gomu Gomu no Mi and created my straw hat crew\n",
      "Look, I can sum 5 and 7 into 12\n"
     ]
    }
   ],
   "source": [
    "name = \"Luffy\"\n",
    "devil_fruit = \"Gomu Gomu no Mi\"\n",
    "crew_name = \"straw hat\"\n",
    "\n",
    "println(\"Hello, my name is $name.\")\n",
    "println(\"I ate the $devil_fruit and created my $crew_name crew\")\n",
    "\n",
    "n1 = 5\n",
    "n2 = 7\n",
    "println(\"Look, I can sum $n1 and $n2 into $(n1 + n2)\")"
   ]
  },
  {
   "cell_type": "code",
   "execution_count": 10,
   "id": "ca1f8ef1",
   "metadata": {},
   "outputs": [
    {
     "data": {
      "text/plain": [
       "\"I likeicecream\""
      ]
     },
     "execution_count": 10,
     "metadata": {},
     "output_type": "execute_result"
    }
   ],
   "source": [
    "# concatenation\n",
    "string(\"I like \", \"icecream\")"
   ]
  },
  {
   "cell_type": "code",
   "execution_count": 11,
   "id": "5c97a20f",
   "metadata": {},
   "outputs": [
    {
     "data": {
      "text/plain": [
       "\"I watched 10 movies yesterday\""
      ]
     },
     "execution_count": 11,
     "metadata": {},
     "output_type": "execute_result"
    }
   ],
   "source": [
    "string(\"I watched \", 10, \" movies yesterday\")"
   ]
  },
  {
   "cell_type": "code",
   "execution_count": 14,
   "id": "b0f4a0c5",
   "metadata": {},
   "outputs": [
    {
     "data": {
      "text/plain": [
       "\"my friend luffy will be king of pirates\""
      ]
     },
     "execution_count": 14,
     "metadata": {},
     "output_type": "execute_result"
    }
   ],
   "source": [
    "s3 = \"my friend luffy \";\n",
    "s4 = \"will be king of pirates\";\n",
    "s3 * s4"
   ]
  }
 ],
 "metadata": {
  "kernelspec": {
   "display_name": "Julia 1.9.2",
   "language": "julia",
   "name": "julia-1.9"
  },
  "language_info": {
   "file_extension": ".jl",
   "mimetype": "application/julia",
   "name": "julia",
   "version": "1.9.2"
  }
 },
 "nbformat": 4,
 "nbformat_minor": 5
}
